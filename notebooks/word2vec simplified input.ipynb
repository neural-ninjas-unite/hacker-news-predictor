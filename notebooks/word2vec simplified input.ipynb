{
 "cells": [
  {
   "cell_type": "code",
   "execution_count": 51,
   "metadata": {},
   "outputs": [],
   "source": [
    "import torch\n",
    "from torch import nn\n",
    "import torch.nn.functional as F\n",
    "import pandas as pd\n",
    "import matplotlib.pyplot as plt \n",
    "import more_itertools\n",
    "import random\n",
    "from torchmetrics import Accuracy\n",
    "from sklearn.metrics.pairwise import cosine_similarity\n",
    "\n",
    "# Tokenisation-related libraries\n",
    "import re\n",
    "from typing import Union, List\n",
    "import nltk\n",
    "from nltk.tokenize import sent_tokenize, word_tokenize\n",
    "from collections import Counter\n",
    "\n",
    "# Setup device agnostic code\n",
    "device = \"mps\" if torch.backends.mps.is_available() else \"cpu\"\n",
    "device\n",
    "\n",
    "# Setup random seed\n",
    "RANDOM_SEED = 42"
   ]
  },
  {
   "cell_type": "code",
   "execution_count": 52,
   "metadata": {},
   "outputs": [
    {
     "name": "stderr",
     "output_type": "stream",
     "text": [
      "[nltk_data] Downloading package punkt to\n",
      "[nltk_data]     /Users/daniellevy/nltk_data...\n",
      "[nltk_data]   Package punkt is already up-to-date!\n",
      "[nltk_data] Downloading package punkt_tab to\n",
      "[nltk_data]     /Users/daniellevy/nltk_data...\n",
      "[nltk_data]   Package punkt_tab is already up-to-date!\n",
      "[nltk_data] Error loading tokenizers/punkt: Package 'tokenizers/punkt'\n",
      "[nltk_data]     not found in index\n"
     ]
    },
    {
     "data": {
      "text/plain": [
       "False"
      ]
     },
     "execution_count": 52,
     "metadata": {},
     "output_type": "execute_result"
    }
   ],
   "source": [
    "# Download all necessary NLTK data\n",
    "nltk.download('punkt')\n",
    "nltk.download('punkt_tab')\n",
    "nltk.download('tokenizers/punkt')"
   ]
  },
  {
   "cell_type": "code",
   "execution_count": 53,
   "metadata": {},
   "outputs": [
    {
     "data": {
      "text/html": [
       "<div>\n",
       "<style scoped>\n",
       "    .dataframe tbody tr th:only-of-type {\n",
       "        vertical-align: middle;\n",
       "    }\n",
       "\n",
       "    .dataframe tbody tr th {\n",
       "        vertical-align: top;\n",
       "    }\n",
       "\n",
       "    .dataframe thead th {\n",
       "        text-align: right;\n",
       "    }\n",
       "</style>\n",
       "<table border=\"1\" class=\"dataframe\">\n",
       "  <thead>\n",
       "    <tr style=\"text-align: right;\">\n",
       "      <th></th>\n",
       "      <th>score</th>\n",
       "      <th>title</th>\n",
       "    </tr>\n",
       "  </thead>\n",
       "  <tbody>\n",
       "    <tr>\n",
       "      <th>0</th>\n",
       "      <td>8.0</td>\n",
       "      <td>nasa's 3d-printed rotating detonation rocket e...</td>\n",
       "    </tr>\n",
       "    <tr>\n",
       "      <th>1</th>\n",
       "      <td>62.0</td>\n",
       "      <td>heat pumps of the 1800s are becoming the techn...</td>\n",
       "    </tr>\n",
       "    <tr>\n",
       "      <th>2</th>\n",
       "      <td>1.0</td>\n",
       "      <td>why you should develop local-first web apps</td>\n",
       "    </tr>\n",
       "    <tr>\n",
       "      <th>3</th>\n",
       "      <td>1.0</td>\n",
       "      <td>tool to make twitter archive publishable</td>\n",
       "    </tr>\n",
       "    <tr>\n",
       "      <th>4</th>\n",
       "      <td>2.0</td>\n",
       "      <td>fedora packages versus upstream flatpaks</td>\n",
       "    </tr>\n",
       "  </tbody>\n",
       "</table>\n",
       "</div>"
      ],
      "text/plain": [
       "   score                                              title\n",
       "0    8.0  nasa's 3d-printed rotating detonation rocket e...\n",
       "1   62.0  heat pumps of the 1800s are becoming the techn...\n",
       "2    1.0        why you should develop local-first web apps\n",
       "3    1.0           tool to make twitter archive publishable\n",
       "4    2.0           fedora packages versus upstream flatpaks"
      ]
     },
     "execution_count": 53,
     "metadata": {},
     "output_type": "execute_result"
    }
   ],
   "source": [
    "df = pd.read_csv('../HN Score, Title 10k.csv')\n",
    "df.title = df.title.str.lower()\n",
    "df.dropna(inplace= True)\n",
    "df.head()"
   ]
  },
  {
   "cell_type": "code",
   "execution_count": 54,
   "metadata": {},
   "outputs": [
    {
     "data": {
      "text/plain": [
       "(17110, 7872)"
      ]
     },
     "execution_count": 54,
     "metadata": {},
     "output_type": "execute_result"
    }
   ],
   "source": [
    "words = []\n",
    "num_lines = 10000\n",
    "lines = df.title.tolist()[:num_lines]\n",
    "\n",
    "for i in df.title[:num_lines]:\n",
    "    for j in str(i).split():\n",
    "        if j not in words and j != \"nan\":\n",
    "            words.append(j)\n",
    "\n",
    "vocab_size = len(words)\n",
    "\n",
    "vocab_size, len(lines)"
   ]
  },
  {
   "cell_type": "code",
   "execution_count": 55,
   "metadata": {},
   "outputs": [],
   "source": [
    "itos = {num:word for num, word in zip(range(len(words)),words)}\n",
    "stoi = {word:num for num,word in itos.items()}"
   ]
  },
  {
   "cell_type": "code",
   "execution_count": 56,
   "metadata": {},
   "outputs": [],
   "source": [
    "def preprocess(text: str) -> list[str]:\n",
    "  text = text.lower()\n",
    "  text = text.replace('.',  ' <PERIOD> ')\n",
    "  text = text.replace(',',  ' <COMMA> ')\n",
    "  text = text.replace('\"',  ' <QUOTATION_MARK> ')\n",
    "  text = text.replace(';',  ' <SEMICOLON> ')\n",
    "  text = text.replace('!',  ' <EXCLAMATION_MARK> ')\n",
    "  text = text.replace('?',  ' <QUESTION_MARK> ')\n",
    "  text = text.replace('(',  ' <LEFT_PAREN> ')\n",
    "  text = text.replace(')',  ' <RIGHT_PAREN> ')\n",
    "  text = text.replace('--', ' <HYPHENS> ')\n",
    "  text = text.replace('?',  ' <QUESTION_MARK> ')\n",
    "  text = text.replace(':',  ' <COLON> ')\n",
    "  words = text.split()\n",
    "  stats = collections.Counter(words)\n",
    "  words = [word for word in words if stats[word] > 5]\n",
    "  return words"
   ]
  },
  {
   "cell_type": "code",
   "execution_count": 57,
   "metadata": {},
   "outputs": [],
   "source": [
    "def preprocess_text(text_input: Union[str, List[str]], min_freq: int = 5) -> tuple[List[str], dict]:\n",
    "    \"\"\"\n",
    "    Preprocess text input and create vocabulary.\n",
    "    \n",
    "    Args:\n",
    "        text_input: Either a single string or list of strings\n",
    "        min_freq: Minimum frequency for a word to be included in vocabulary\n",
    "    \n",
    "    Returns:\n",
    "        processed_words: List of processed words\n",
    "        word_to_idx: Dictionary mapping words to indices\n",
    "    \"\"\"\n",
    "    # Download required NLTK data if not already present\n",
    "    try:\n",
    "        nltk.data.find('tokenizers/punkt')\n",
    "    except LookupError:\n",
    "        nltk.download('punkt')\n",
    "    \n",
    "    # Convert input to list of sentences\n",
    "    if isinstance(text_input, str):\n",
    "        sentences = sent_tokenize(text_input)\n",
    "    elif isinstance(text_input, list):\n",
    "        # Handle each line which might contain multiple sentences\n",
    "        sentences = []\n",
    "        for line in text_input:\n",
    "            if isinstance(line, str):\n",
    "                sentences.extend(sent_tokenize(line))\n",
    "    else:\n",
    "        raise ValueError(\"Input must be either a string or list of strings\")\n",
    "\n",
    "    # Text cleaning function\n",
    "    def clean_text(text: str) -> str:\n",
    "        # Convert to lowercase\n",
    "        text = text.lower()\n",
    "        \n",
    "        # Replace special characters with tokens\n",
    "        replacements = {\n",
    "            '.': ' <PERIOD> ',\n",
    "            ',': ' <COMMA> ',\n",
    "            '\"': ' <QUOTATION_MARK> ',\n",
    "            ';': ' <SEMICOLON> ',\n",
    "            '!': ' <EXCLAMATION_MARK> ',\n",
    "            '?': ' <QUESTION_MARK> ',\n",
    "            '(': ' <LEFT_PAREN> ',\n",
    "            ')': ' <RIGHT_PAREN> ',\n",
    "            '--': ' <HYPHENS> ',\n",
    "            ':': ' <COLON> ',\n",
    "            \"'\": ' <APOSTROPHE> ',\n",
    "            '\\n': ' ',\n",
    "            '\\t': ' '\n",
    "        }\n",
    "        \n",
    "        for old, new in replacements.items():\n",
    "            text = text.replace(old, new)\n",
    "        \n",
    "        # Remove special characters and extra whitespace\n",
    "        text = re.sub(r'[^a-zA-Z0-9\\s<>_]', '', text)\n",
    "        text = re.sub(r'\\s+', ' ', text)\n",
    "        \n",
    "        return text.strip()\n",
    "\n",
    "    # Process all sentences\n",
    "    processed_words = []\n",
    "    for sentence in sentences:\n",
    "        # Clean the text\n",
    "        cleaned_text = clean_text(sentence)\n",
    "        # Tokenize\n",
    "        words = word_tokenize(cleaned_text)\n",
    "        processed_words.extend(words)\n",
    "\n",
    "    # Count word frequencies\n",
    "    word_counts = Counter(processed_words)\n",
    "    \n",
    "    # Create vocabulary (only including words that meet minimum frequency)\n",
    "    vocab = [word for word, count in word_counts.items() if count >= min_freq]\n",
    "    word_to_idx = {word: idx for idx, word in enumerate(vocab)}\n",
    "    \n",
    "    # Filter words based on vocabulary\n",
    "    processed_words = [word for word in processed_words if word in word_to_idx]\n",
    "    \n",
    "    return processed_words, word_to_idx"
   ]
  },
  {
   "cell_type": "code",
   "execution_count": 71,
   "metadata": {},
   "outputs": [],
   "source": [
    "def preprocess_text(text_input: Union[str, List[str]], min_freq: int = 5) -> tuple[List[str], dict]:\n",
    "    \"\"\"\n",
    "    Preprocess text input and create vocabulary.\n",
    "    \"\"\"\n",
    "    # Define special tokens using a marker that word_tokenize won't split\n",
    "    SPECIAL_TOKENS = {\n",
    "        '.': 'XPERIODX',\n",
    "        ',': 'XCOMMAX',\n",
    "        '\"': 'XQUOTATION_MARKX',\n",
    "        ';': 'XSEMICOLONX',\n",
    "        '!': 'XEXCLAMATION_MARKX',\n",
    "        '?': 'XQUESTION_MARKX',\n",
    "        '(': 'XLEFT_PARENX',\n",
    "        ')': 'XRIGHT_PARENX',\n",
    "        '--': 'XHYPHENSX',\n",
    "        ':': 'XCOLONX',\n",
    "        \"'\": 'XAPOSTROPHEX'\n",
    "    }\n",
    "    \n",
    "    # Mapping for restoring angle brackets\n",
    "    RESTORE_TOKENS = {\n",
    "        f'XPERIODX': '<PERIOD>',\n",
    "        f'XCOMMAX': '<COMMA>',\n",
    "        f'XQUOTATION_MARKX': '<QUOTATION_MARK>',\n",
    "        f'XSEMICOLONX': '<SEMICOLON>',\n",
    "        f'XEXCLAMATION_MARKX': '<EXCLAMATION_MARK>',\n",
    "        f'XQUESTION_MARKX': '<QUESTION_MARK>',\n",
    "        f'XLEFT_PARENX': '<LEFT_PAREN>',\n",
    "        f'XRIGHT_PARENX': '<RIGHT_PAREN>',\n",
    "        f'XHYPHENSX': '<HYPHENS>',\n",
    "        f'XCOLONX': '<COLON>',\n",
    "        f'XAPOSTROPHEX': '<APOSTROPHE>'\n",
    "    }\n",
    "    \n",
    "    def clean_text(text: str) -> str:\n",
    "        # Convert to lowercase\n",
    "        text = text.lower()\n",
    "        \n",
    "        # Replace special characters with temporary tokens\n",
    "        for char, token in SPECIAL_TOKENS.items():\n",
    "            text = text.replace(char, f' {token} ')\n",
    "        \n",
    "        # Remove special characters and extra whitespace\n",
    "        text = re.sub(r'[^a-zA-Z0-9\\s_X]', '', text)\n",
    "        text = re.sub(r'\\s+', ' ', text)\n",
    "        \n",
    "        return text.strip()\n",
    "\n",
    "    # Convert input to list of sentences\n",
    "    if isinstance(text_input, str):\n",
    "        sentences = sent_tokenize(text_input)\n",
    "    elif isinstance(text_input, list):\n",
    "        sentences = []\n",
    "        for line in text_input:\n",
    "            if isinstance(line, str):\n",
    "                try:\n",
    "                    sentences.extend(sent_tokenize(line))\n",
    "                except:\n",
    "                    sentences.append(line)\n",
    "    else:\n",
    "        raise ValueError(\"Input must be either a string or list of strings\")\n",
    "\n",
    "    # Process all sentences\n",
    "    processed_words = []\n",
    "    for sentence in sentences:\n",
    "        # Clean the text\n",
    "        cleaned_text = clean_text(sentence)\n",
    "        # Tokenize\n",
    "        try:\n",
    "            words = word_tokenize(cleaned_text)\n",
    "            # Restore angle bracket format\n",
    "            words = [RESTORE_TOKENS.get(word, word) for word in words]\n",
    "        except:\n",
    "            words = cleaned_text.split()\n",
    "        processed_words.extend(words)\n",
    "\n",
    "    # Count word frequencies\n",
    "    word_counts = Counter(processed_words)\n",
    "    \n",
    "    # Create vocabulary (only including words that meet minimum frequency)\n",
    "    vocab = [word for word, count in word_counts.items() if count >= min_freq]\n",
    "    word_to_idx = {word: idx for idx, word in enumerate(vocab)}\n",
    "    \n",
    "    # Filter words based on vocabulary\n",
    "    processed_words = [word for word in processed_words if word in word_to_idx]\n",
    "    \n",
    "    return processed_words, word_to_idx"
   ]
  },
  {
   "cell_type": "code",
   "execution_count": 73,
   "metadata": {},
   "outputs": [
    {
     "data": {
      "text/plain": [
       "['nasa',\n",
       " '<APOSTROPHE>',\n",
       " 's',\n",
       " 'rocket',\n",
       " 'engine',\n",
       " 'test',\n",
       " 'a',\n",
       " 'success',\n",
       " 'heat',\n",
       " 'of',\n",
       " 'the',\n",
       " 'are',\n",
       " 'becoming',\n",
       " 'the',\n",
       " 'technology',\n",
       " 'of',\n",
       " 'the',\n",
       " 'future',\n",
       " 'why',\n",
       " 'you',\n",
       " 'should',\n",
       " 'develop',\n",
       " 'web',\n",
       " 'apps',\n",
       " 'tool',\n",
       " 'to',\n",
       " 'make',\n",
       " 'twitter',\n",
       " 'archive',\n",
       " 'fedora']"
      ]
     },
     "execution_count": 73,
     "metadata": {},
     "output_type": "execute_result"
    }
   ],
   "source": [
    "processed_words, word_to_idx = preprocess_text(lines, min_freq=5)\n",
    "processed_words[:30]"
   ]
  },
  {
   "cell_type": "code",
   "execution_count": 60,
   "metadata": {},
   "outputs": [],
   "source": [
    "def create_skipgram_pairs(input_lines, word_to_ix, context_len=3):\n",
    "    \"\"\"\n",
    "    Create skipgram pairs from lines of text.\n",
    "    Returns: tuple of (input_indices, context_indices)\n",
    "    \"\"\"\n",
    "    context_words = []\n",
    "    input_words = []\n",
    "    middle_index = context_len // 2\n",
    "\n",
    "    for line in input_lines:\n",
    "        words = line.strip().split()\n",
    "        \n",
    "        if len(words) >= context_len:\n",
    "            windows = list(more_itertools.windowed(words, context_len))\n",
    "            \n",
    "            for window in windows:\n",
    "                center = window[middle_index]\n",
    "                context = [window[0], window[2]]\n",
    "                \n",
    "                input_words.append(center)\n",
    "                context_words.append(context)\n",
    "\n",
    "    # Convert to indices\n",
    "    input_indices = [word_to_ix[word] for word in input_words]\n",
    "    context_indices = [[word_to_ix[w] for w in context] for context in context_words]\n",
    "    \n",
    "    return input_indices, context_indices\n",
    "\n"
   ]
  },
  {
   "cell_type": "code",
   "execution_count": 61,
   "metadata": {},
   "outputs": [],
   "source": [
    "# Usage:\n",
    "context_len = 3\n",
    "input_indices, context_indices = create_skipgram_pairs(lines, stoi, context_len)\n",
    "X = torch.tensor(input_indices, dtype=torch.long)\n",
    "Y = torch.tensor(context_indices, dtype=torch.long)"
   ]
  },
  {
   "cell_type": "code",
   "execution_count": 62,
   "metadata": {},
   "outputs": [
    {
     "data": {
      "text/plain": [
       "(tensor([ 1,  2,  3,  4,  5,  6,  7, 10, 11, 12]),\n",
       " tensor([[ 0,  2],\n",
       "         [ 1,  3],\n",
       "         [ 2,  4],\n",
       "         [ 3,  5],\n",
       "         [ 4,  6],\n",
       "         [ 5,  7],\n",
       "         [ 6,  8],\n",
       "         [ 9, 11],\n",
       "         [10, 12],\n",
       "         [11, 13]]))"
      ]
     },
     "execution_count": 62,
     "metadata": {},
     "output_type": "execute_result"
    }
   ],
   "source": [
    "X.shape, Y.shape\n",
    "X[:10], Y[:10]"
   ]
  },
  {
   "cell_type": "code",
   "execution_count": 63,
   "metadata": {},
   "outputs": [
    {
     "name": "stdout",
     "output_type": "stream",
     "text": [
      "Dataset size: 48259 ; context length: 3 ; vocab size: 17110\n"
     ]
    }
   ],
   "source": [
    "inputs_len = len(X)\n",
    "print(\"Dataset size:\", inputs_len, \"; context length:\", context_len, \"; vocab size:\", vocab_size)"
   ]
  },
  {
   "cell_type": "code",
   "execution_count": 64,
   "metadata": {},
   "outputs": [],
   "source": [
    "# # Convert targets to indices\n",
    "# input_indices = [stoi[input] for input in inputs if input in stoi]\n",
    "\n",
    "# # Convert context words to indices\n",
    "# context_indices = [[stoi[context] for context in contexts if context in stoi] for contexts in context_words]\n",
    "\n",
    "# print(input_indices[:10])\n",
    "# print(context_indices[:10])\n"
   ]
  },
  {
   "cell_type": "code",
   "execution_count": 65,
   "metadata": {},
   "outputs": [],
   "source": [
    "# # Convert target indices to PyTorch tensor\n",
    "# X = torch.tensor(input_indices, dtype=torch.long)\n",
    "\n",
    "# Y = torch.tensor(context_indices, dtype=torch.long)\n",
    "\n",
    "# # Create one-hot encoded targets (X)\n",
    "# # X = torch.zeros((targets_len, vocab_size))\n",
    "# # X.scatter_(1, target_indices.unsqueeze(1), 1)  # Scatter 1s into the appropriate indices\n",
    "# # X = X.long()\n",
    "\n",
    "# # Convert context indices to PyTorch tensor and one-hot encode (Y)\n",
    "# # Y = torch.zeros((inputs_len, vocab_size))\n",
    "# # for i, context in enumerate(context_indices):\n",
    "# #     Y[i, context] = 1  # Set 1s for all indices in the context for each target\n",
    "\n",
    "# X.shape, Y.shape"
   ]
  },
  {
   "cell_type": "code",
   "execution_count": 66,
   "metadata": {},
   "outputs": [],
   "source": [
    "emb_dims = 20\n",
    "\n",
    "class Word2Vec(nn.Module):\n",
    "    def __init__(self, vocab_size, emb_dims):\n",
    "        super().__init__()\n",
    "        self.embeddings = nn.Embedding(num_embeddings= vocab_size, embedding_dim= emb_dims)\n",
    "        self.output_weights = nn.Linear(in_features = emb_dims, out_features = vocab_size)\n",
    "        self.sigmoid = nn.Sigmoid()\n",
    "\n",
    "    def forward(self, x, positive_samples, negative_samples):\n",
    "        emb = self.embeddings(x)\n",
    "        context_weights = self.output_weights.weight[positive_samples]\n",
    "        negative_sample_weights = self.output_weights.weight[negative_samples]\n",
    "        positive_out = torch.bmm(context_weights, emb.unsqueeze(-1)).squeeze(-1)\n",
    "        negative_out = torch.bmm(negative_sample_weights, emb.unsqueeze(-1)).squeeze(-1)\n",
    "        positive_out = self.sigmoid(positive_out)\n",
    "        negative_out = self.sigmoid(negative_out)\n",
    "        positive_loss = -positive_out.log().mean()\n",
    "        negative_loss = -(1 - negative_out + 10**(-3)).log().mean()\n",
    "        return positive_loss + negative_loss\n",
    "\n",
    "word2vec = Word2Vec(vocab_size = vocab_size, emb_dims= emb_dims)\n"
   ]
  },
  {
   "cell_type": "code",
   "execution_count": 67,
   "metadata": {},
   "outputs": [],
   "source": [
    "# Setup loss function\n",
    "loss_fn = nn.BCEWithLogitsLoss()\n",
    "\n",
    "# Setup optimizer to optimize model's parameters\n",
    "optimiser = torch.optim.SGD(params= word2vec.parameters(), lr = 0.1)"
   ]
  },
  {
   "cell_type": "code",
   "execution_count": 68,
   "metadata": {},
   "outputs": [],
   "source": [
    "## TODO: Uncomment this code to use the Accuracy function\n",
    "# acc_fn = Accuracy(task=\"multiclass\", num_classes=vocab_size) # send accuracy function to device"
   ]
  },
  {
   "cell_type": "code",
   "execution_count": 69,
   "metadata": {},
   "outputs": [],
   "source": [
    "def evaluate_accuracy(model, X, Y, vocab_size):\n",
    "    \"\"\"\n",
    "    Calculate accuracy by comparing positive sample scores with negative sample scores.\n",
    "    We want positive context words to have higher scores than random negative words.\n",
    "    \"\"\"\n",
    "    model.eval()\n",
    "    \n",
    "    with torch.no_grad():\n",
    "        # Get embeddings for all input words\n",
    "        emb = model.embeddings(X)  # [num_samples, embedding_dim]\n",
    "        \n",
    "        # Get positive context embeddings\n",
    "        pos_ctx = model.output_weights.weight[Y]  # [num_samples, 2, embedding_dim]\n",
    "        \n",
    "        # Generate negative samples\n",
    "        neg_samples = torch.randint(0, vocab_size, Y.shape)\n",
    "        neg_ctx = model.output_weights.weight[neg_samples]\n",
    "        \n",
    "        # Calculate similarity scores\n",
    "        emb_reshaped = emb.unsqueeze(-1)  # [num_samples, embedding_dim, 1]\n",
    "        pos_scores = torch.bmm(pos_ctx, emb_reshaped).squeeze(-1)  # [num_samples, 2]\n",
    "        neg_scores = torch.bmm(neg_ctx, emb_reshaped).squeeze(-1)  # [num_samples, 2]\n",
    "        \n",
    "        # Accuracy: how often positive scores > negative scores\n",
    "        accuracy = (pos_scores > neg_scores).float().mean().item()\n",
    "        \n",
    "    return accuracy"
   ]
  },
  {
   "cell_type": "code",
   "execution_count": 70,
   "metadata": {},
   "outputs": [
    {
     "name": "stdout",
     "output_type": "stream",
     "text": [
      "Epoch 1 | Loss: 1.42617 | Accuracy: 0.5234\n",
      "Epoch 2 | Loss: 1.39697 | Accuracy: 0.5432\n",
      "Epoch 3 | Loss: 1.45858 | Accuracy: 0.5538\n",
      "Epoch 4 | Loss: 1.27809 | Accuracy: 0.5621\n",
      "Epoch 5 | Loss: 1.36482 | Accuracy: 0.5746\n"
     ]
    },
    {
     "ename": "KeyboardInterrupt",
     "evalue": "",
     "output_type": "error",
     "traceback": [
      "\u001b[0;31m---------------------------------------------------------------------------\u001b[0m",
      "\u001b[0;31mKeyboardInterrupt\u001b[0m                         Traceback (most recent call last)",
      "Cell \u001b[0;32mIn[70], line 24\u001b[0m\n\u001b[1;32m     20\u001b[0m \u001b[38;5;28;01mfor\u001b[39;00m epoch \u001b[38;5;129;01min\u001b[39;00m \u001b[38;5;28mrange\u001b[39m(epochs):\n\u001b[1;32m     21\u001b[0m     \u001b[38;5;66;03m### Training\u001b[39;00m\n\u001b[1;32m     22\u001b[0m     total_loss \u001b[38;5;241m=\u001b[39m \u001b[38;5;241m0\u001b[39m  \u001b[38;5;66;03m# Track loss across batches\u001b[39;00m\n\u001b[0;32m---> 24\u001b[0m     \u001b[38;5;28;01mfor\u001b[39;00m batch_idx, batch \u001b[38;5;129;01min\u001b[39;00m \u001b[38;5;28menumerate\u001b[39m(dataloader):\n\u001b[1;32m     25\u001b[0m         \u001b[38;5;66;03m# Unpack batch\u001b[39;00m\n\u001b[1;32m     26\u001b[0m         X_batch, positive_samples \u001b[38;5;241m=\u001b[39m batch\n\u001b[1;32m     27\u001b[0m         \u001b[38;5;66;03m# Generate negative samples\u001b[39;00m\n",
      "File \u001b[0;32m~/Library/Python/3.9/lib/python/site-packages/torch/utils/data/dataloader.py:630\u001b[0m, in \u001b[0;36m_BaseDataLoaderIter.__next__\u001b[0;34m(self)\u001b[0m\n\u001b[1;32m    627\u001b[0m \u001b[38;5;28;01mif\u001b[39;00m \u001b[38;5;28mself\u001b[39m\u001b[38;5;241m.\u001b[39m_sampler_iter \u001b[38;5;129;01mis\u001b[39;00m \u001b[38;5;28;01mNone\u001b[39;00m:\n\u001b[1;32m    628\u001b[0m     \u001b[38;5;66;03m# TODO(https://github.com/pytorch/pytorch/issues/76750)\u001b[39;00m\n\u001b[1;32m    629\u001b[0m     \u001b[38;5;28mself\u001b[39m\u001b[38;5;241m.\u001b[39m_reset()  \u001b[38;5;66;03m# type: ignore[call-arg]\u001b[39;00m\n\u001b[0;32m--> 630\u001b[0m data \u001b[38;5;241m=\u001b[39m \u001b[38;5;28;43mself\u001b[39;49m\u001b[38;5;241;43m.\u001b[39;49m\u001b[43m_next_data\u001b[49m\u001b[43m(\u001b[49m\u001b[43m)\u001b[49m\n\u001b[1;32m    631\u001b[0m \u001b[38;5;28mself\u001b[39m\u001b[38;5;241m.\u001b[39m_num_yielded \u001b[38;5;241m+\u001b[39m\u001b[38;5;241m=\u001b[39m \u001b[38;5;241m1\u001b[39m\n\u001b[1;32m    632\u001b[0m \u001b[38;5;28;01mif\u001b[39;00m \u001b[38;5;28mself\u001b[39m\u001b[38;5;241m.\u001b[39m_dataset_kind \u001b[38;5;241m==\u001b[39m _DatasetKind\u001b[38;5;241m.\u001b[39mIterable \u001b[38;5;129;01mand\u001b[39;00m \\\n\u001b[1;32m    633\u001b[0m         \u001b[38;5;28mself\u001b[39m\u001b[38;5;241m.\u001b[39m_IterableDataset_len_called \u001b[38;5;129;01mis\u001b[39;00m \u001b[38;5;129;01mnot\u001b[39;00m \u001b[38;5;28;01mNone\u001b[39;00m \u001b[38;5;129;01mand\u001b[39;00m \\\n\u001b[1;32m    634\u001b[0m         \u001b[38;5;28mself\u001b[39m\u001b[38;5;241m.\u001b[39m_num_yielded \u001b[38;5;241m>\u001b[39m \u001b[38;5;28mself\u001b[39m\u001b[38;5;241m.\u001b[39m_IterableDataset_len_called:\n",
      "File \u001b[0;32m~/Library/Python/3.9/lib/python/site-packages/torch/utils/data/dataloader.py:673\u001b[0m, in \u001b[0;36m_SingleProcessDataLoaderIter._next_data\u001b[0;34m(self)\u001b[0m\n\u001b[1;32m    671\u001b[0m \u001b[38;5;28;01mdef\u001b[39;00m \u001b[38;5;21m_next_data\u001b[39m(\u001b[38;5;28mself\u001b[39m):\n\u001b[1;32m    672\u001b[0m     index \u001b[38;5;241m=\u001b[39m \u001b[38;5;28mself\u001b[39m\u001b[38;5;241m.\u001b[39m_next_index()  \u001b[38;5;66;03m# may raise StopIteration\u001b[39;00m\n\u001b[0;32m--> 673\u001b[0m     data \u001b[38;5;241m=\u001b[39m \u001b[38;5;28;43mself\u001b[39;49m\u001b[38;5;241;43m.\u001b[39;49m\u001b[43m_dataset_fetcher\u001b[49m\u001b[38;5;241;43m.\u001b[39;49m\u001b[43mfetch\u001b[49m\u001b[43m(\u001b[49m\u001b[43mindex\u001b[49m\u001b[43m)\u001b[49m  \u001b[38;5;66;03m# may raise StopIteration\u001b[39;00m\n\u001b[1;32m    674\u001b[0m     \u001b[38;5;28;01mif\u001b[39;00m \u001b[38;5;28mself\u001b[39m\u001b[38;5;241m.\u001b[39m_pin_memory:\n\u001b[1;32m    675\u001b[0m         data \u001b[38;5;241m=\u001b[39m _utils\u001b[38;5;241m.\u001b[39mpin_memory\u001b[38;5;241m.\u001b[39mpin_memory(data, \u001b[38;5;28mself\u001b[39m\u001b[38;5;241m.\u001b[39m_pin_memory_device)\n",
      "File \u001b[0;32m~/Library/Python/3.9/lib/python/site-packages/torch/utils/data/_utils/fetch.py:52\u001b[0m, in \u001b[0;36m_MapDatasetFetcher.fetch\u001b[0;34m(self, possibly_batched_index)\u001b[0m\n\u001b[1;32m     50\u001b[0m         data \u001b[38;5;241m=\u001b[39m \u001b[38;5;28mself\u001b[39m\u001b[38;5;241m.\u001b[39mdataset\u001b[38;5;241m.\u001b[39m__getitems__(possibly_batched_index)\n\u001b[1;32m     51\u001b[0m     \u001b[38;5;28;01melse\u001b[39;00m:\n\u001b[0;32m---> 52\u001b[0m         data \u001b[38;5;241m=\u001b[39m [\u001b[38;5;28mself\u001b[39m\u001b[38;5;241m.\u001b[39mdataset[idx] \u001b[38;5;28;01mfor\u001b[39;00m idx \u001b[38;5;129;01min\u001b[39;00m possibly_batched_index]\n\u001b[1;32m     53\u001b[0m \u001b[38;5;28;01melse\u001b[39;00m:\n\u001b[1;32m     54\u001b[0m     data \u001b[38;5;241m=\u001b[39m \u001b[38;5;28mself\u001b[39m\u001b[38;5;241m.\u001b[39mdataset[possibly_batched_index]\n",
      "File \u001b[0;32m~/Library/Python/3.9/lib/python/site-packages/torch/utils/data/_utils/fetch.py:52\u001b[0m, in \u001b[0;36m<listcomp>\u001b[0;34m(.0)\u001b[0m\n\u001b[1;32m     50\u001b[0m         data \u001b[38;5;241m=\u001b[39m \u001b[38;5;28mself\u001b[39m\u001b[38;5;241m.\u001b[39mdataset\u001b[38;5;241m.\u001b[39m__getitems__(possibly_batched_index)\n\u001b[1;32m     51\u001b[0m     \u001b[38;5;28;01melse\u001b[39;00m:\n\u001b[0;32m---> 52\u001b[0m         data \u001b[38;5;241m=\u001b[39m [\u001b[38;5;28;43mself\u001b[39;49m\u001b[38;5;241;43m.\u001b[39;49m\u001b[43mdataset\u001b[49m\u001b[43m[\u001b[49m\u001b[43midx\u001b[49m\u001b[43m]\u001b[49m \u001b[38;5;28;01mfor\u001b[39;00m idx \u001b[38;5;129;01min\u001b[39;00m possibly_batched_index]\n\u001b[1;32m     53\u001b[0m \u001b[38;5;28;01melse\u001b[39;00m:\n\u001b[1;32m     54\u001b[0m     data \u001b[38;5;241m=\u001b[39m \u001b[38;5;28mself\u001b[39m\u001b[38;5;241m.\u001b[39mdataset[possibly_batched_index]\n",
      "File \u001b[0;32m~/Library/Python/3.9/lib/python/site-packages/torch/utils/data/dataset.py:211\u001b[0m, in \u001b[0;36mTensorDataset.__getitem__\u001b[0;34m(self, index)\u001b[0m\n\u001b[1;32m    210\u001b[0m \u001b[38;5;28;01mdef\u001b[39;00m \u001b[38;5;21m__getitem__\u001b[39m(\u001b[38;5;28mself\u001b[39m, index):\n\u001b[0;32m--> 211\u001b[0m     \u001b[38;5;28;01mreturn\u001b[39;00m \u001b[38;5;28;43mtuple\u001b[39;49m\u001b[43m(\u001b[49m\u001b[43mtensor\u001b[49m\u001b[43m[\u001b[49m\u001b[43mindex\u001b[49m\u001b[43m]\u001b[49m\u001b[43m \u001b[49m\u001b[38;5;28;43;01mfor\u001b[39;49;00m\u001b[43m \u001b[49m\u001b[43mtensor\u001b[49m\u001b[43m \u001b[49m\u001b[38;5;129;43;01min\u001b[39;49;00m\u001b[43m \u001b[49m\u001b[38;5;28;43mself\u001b[39;49m\u001b[38;5;241;43m.\u001b[39;49m\u001b[43mtensors\u001b[49m\u001b[43m)\u001b[49m\n",
      "File \u001b[0;32m~/Library/Python/3.9/lib/python/site-packages/torch/utils/data/dataset.py:211\u001b[0m, in \u001b[0;36m<genexpr>\u001b[0;34m(.0)\u001b[0m\n\u001b[1;32m    210\u001b[0m \u001b[38;5;28;01mdef\u001b[39;00m \u001b[38;5;21m__getitem__\u001b[39m(\u001b[38;5;28mself\u001b[39m, index):\n\u001b[0;32m--> 211\u001b[0m     \u001b[38;5;28;01mreturn\u001b[39;00m \u001b[38;5;28mtuple\u001b[39m(\u001b[43mtensor\u001b[49m\u001b[43m[\u001b[49m\u001b[43mindex\u001b[49m\u001b[43m]\u001b[49m \u001b[38;5;28;01mfor\u001b[39;00m tensor \u001b[38;5;129;01min\u001b[39;00m \u001b[38;5;28mself\u001b[39m\u001b[38;5;241m.\u001b[39mtensors)\n",
      "\u001b[0;31mKeyboardInterrupt\u001b[0m: "
     ]
    }
   ],
   "source": [
    "torch.manual_seed(RANDOM_SEED)\n",
    "\n",
    "# Setup epochs\n",
    "epochs = 400\n",
    "batch_size = 32\n",
    "# Track loss\n",
    "lossi = []\n",
    "\n",
    "# Send data to the device\n",
    "# X_train, y_train = X_train.to(device), y_train.to(device)\n",
    "# X_test, y_test = X_test.to(device), y_test.to(device)\n",
    "\n",
    "dataset = torch.utils.data.TensorDataset(X, Y)\n",
    "dataloader = torch.utils.data.DataLoader(dataset, \n",
    "                                         batch_size=32, \n",
    "                                         shuffle=True, \n",
    "                                         drop_last=True)\n",
    "\n",
    "# Loop through the data\n",
    "for epoch in range(epochs):\n",
    "    ### Training\n",
    "    total_loss = 0  # Track loss across batches\n",
    "    \n",
    "    for batch_idx, batch in enumerate(dataloader):\n",
    "        # Unpack batch\n",
    "        X_batch, positive_samples = batch\n",
    "        # Generate negative samples\n",
    "        negative_samples = torch.randint(0, vocab_size, (X_batch.size(0), context_len -1))\n",
    "\n",
    "        # 1. Forward pass (now returns loss directly)\n",
    "        loss = word2vec(X_batch, positive_samples, negative_samples)  # Model computes loss internally\n",
    "        \n",
    "        # 2. Zero the gradients\n",
    "        optimiser.zero_grad()\n",
    "        \n",
    "        # 3. Loss backwards\n",
    "        loss.backward()\n",
    "        \n",
    "        # 4. Step the optimiser\n",
    "        optimiser.step()\n",
    "        \n",
    "        total_loss += loss.item()\n",
    "\n",
    "        # Track loss\n",
    "        lossi.append(loss.item())\n",
    "        \n",
    "        # if batch_idx % 100 == 0:\n",
    "    accuracy = evaluate_accuracy(word2vec, X, Y, vocab_size)\n",
    "    print(f\"Epoch {epoch + 1} | Loss: {loss.item():.5f} | Accuracy: {accuracy:.4f}\")\n",
    "\n",
    "    # print(f\"Epoch {epoch + 1} | Batch {batch_idx + 1} | Loss: {loss.item():.5f}\")\n",
    "    # Print out what's happening every 100 epochs\n",
    "    # if epoch % 100 == 0:\n",
    "    #     avg_loss = total_loss / len(dataloader)\n",
    "    #     print(f\"Epoch: {epoch} | Average Loss: {avg_loss:.5f}\")\n",
    "\n"
   ]
  },
  {
   "cell_type": "code",
   "execution_count": 17,
   "metadata": {},
   "outputs": [],
   "source": [
    "def plot_loss(lossi):\n",
    "    \"\"\"\n",
    "    Plot loss values using PyTorch operations.\n",
    "    \"\"\"\n",
    "    losses = torch.tensor(lossi)\n",
    "    window_size = max(len(losses) // 100, 1)\n",
    "    \n",
    "    # Reshape and mean\n",
    "    remainder = len(losses) % window_size\n",
    "    if remainder:\n",
    "        # Pad with the last value to make it evenly divisible\n",
    "        padding = window_size - remainder\n",
    "        losses = torch.cat([losses, losses[-1].repeat(padding)])\n",
    "    \n",
    "    averaged_losses = losses.view(-1, window_size).mean(1)\n",
    "    \n",
    "    plt.figure(figsize=(10, 6))\n",
    "    plt.plot(averaged_losses)\n",
    "    plt.title('Training Loss Over Time')\n",
    "    plt.xlabel(f'Steps (averaged over {window_size} steps)')\n",
    "    plt.ylabel('Loss')\n",
    "    plt.show()"
   ]
  },
  {
   "cell_type": "code",
   "execution_count": 24,
   "metadata": {},
   "outputs": [
    {
     "data": {
      "image/png": "[encoded data removed]",
      "text/plain": [
       "<Figure size 1000x600 with 1 Axes>"
      ]
     },
     "metadata": {},
     "output_type": "display_data"
    }
   ],
   "source": [
    "plot_loss(lossi)"
   ]
  },
  {
   "cell_type": "code",
   "execution_count": 19,
   "metadata": {},
   "outputs": [],
   "source": [
    "# plt.plot(torch.tensor(lossi).view(-1, 1000).mean(1))"
   ]
  },
  {
   "cell_type": "code",
   "execution_count": null,
   "metadata": {},
   "outputs": [
    {
     "name": "stdout",
     "output_type": "stream",
     "text": [
      "Nearest neighbors of 'rapid':\n",
      "[('($25,300)', 0.750002), ('v1.43.0', 0.67328304), ('gallery', 0.6626447), ('osint', 0.6579418), ('fasting', 0.6529968)]\n"
     ]
    }
   ],
   "source": [
    "def get_nearest_neighbors(word, stoi, embeddings, n=5):\n",
    "    \"\"\"\n",
    "    Find the top-n nearest neighbors of a word in the embedding space.\n",
    "    \n",
    "    Args:\n",
    "        word (str): The target word.\n",
    "        stoi (dict): Mapping from words to indices.\n",
    "        embeddings (torch.Tensor): Learned word embeddings (shape: V x d).\n",
    "        n (int): Number of nearest neighbors to retrieve.\n",
    "    \n",
    "    Returns:\n",
    "        List of tuples (neighbor_word, similarity_score).\n",
    "    \"\"\"\n",
    "    if word not in stoi:\n",
    "        return f\"'{word}' not in vocabulary.\"\n",
    "    \n",
    "    word_idx = stoi[word]\n",
    "    word_embedding = embeddings[word_idx].unsqueeze(0)  # Shape: 1 x d\n",
    "    \n",
    "    # Compute cosine similarity between the target embedding and all embeddings\n",
    "    similarities = cosine_similarity(word_embedding.detach().numpy(), embeddings.detach().numpy())\n",
    "    similarities = similarities[0]  # Flatten\n",
    "    \n",
    "    # Get top-n similar words (excluding the word itself)\n",
    "    nearest_indices = similarities.argsort()[-n-1:][::-1][1:]  # Exclude the word itself\n",
    "    nearest_words = [(list(stoi.keys())[idx], similarities[idx]) for idx in nearest_indices]\n",
    "    return nearest_words\n",
    "\n"
   ]
  },
  {
   "cell_type": "code",
   "execution_count": 33,
   "metadata": {},
   "outputs": [
    {
     "name": "stdout",
     "output_type": "stream",
     "text": [
      "Nearest neighbors of 'rapid':\n",
      "[('($25,300)', 0.750002), ('v1.43.0', 0.67328304), ('gallery', 0.6626447), ('osint', 0.6579418), ('fasting', 0.6529968)]\n"
     ]
    }
   ],
   "source": [
    "# Example usage\n",
    "word = \"rapid\"\n",
    "nearest_neighbors = get_nearest_neighbors(word, stoi, word2vec.embeddings.weight, n=5)\n",
    "print(f\"Nearest neighbors of '{word}':\")\n",
    "print(nearest_neighbors)\n"
   ]
  },
  {
   "cell_type": "code",
   "execution_count": 27,
   "metadata": {},
   "outputs": [
    {
     "name": "stdout",
     "output_type": "stream",
     "text": [
      "Random sample of words:\n",
      "['values?', 'coumarin', 'bloomfield', 'logs', 'abroad', 'better', 'pakistan', 'rapid', 'literal', 'bingo']\n"
     ]
    }
   ],
   "source": [
    "# Using random\n",
    "# Make a copy so you don't shuffle the original list\n",
    "words_sample = words.copy()\n",
    "random.shuffle(words_sample)\n",
    "\n",
    "# Print first 10 shuffled words\n",
    "print(\"Random sample of words:\")\n",
    "print(words_sample[:10])"
   ]
  }
 ],
 "metadata": {
  "kernelspec": {
   "display_name": "Python 3",
   "language": "python",
   "name": "python3"
  },
  "language_info": {
   "codemirror_mode": {
    "name": "ipython",
    "version": 3
   },
   "file_extension": ".py",
   "mimetype": "text/x-python",
   "name": "python",
   "nbconvert_exporter": "python",
   "pygments_lexer": "ipython3",
   "version": "3.9.6"
  }
 },
 "nbformat": 4,
 "nbformat_minor": 2
}
