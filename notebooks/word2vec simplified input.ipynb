{
 "cells": [
  {
   "cell_type": "code",
   "execution_count": 18,
   "metadata": {},
   "outputs": [],
   "source": [
    "import torch\n",
    "from torch import nn\n",
    "import torch.nn.functional as F\n",
    "import pandas as pd\n",
    "import matplotlib.pyplot as plt \n",
    "import more_itertools\n",
    "import random\n",
    "from torchmetrics import Accuracy\n",
    "\n",
    "# Setup device agnostic code\n",
    "device = \"mps\" if torch.backends.mps.is_available() else \"cpu\"\n",
    "device\n",
    "\n",
    "# Setup random seed\n",
    "RANDOM_SEED = 42"
   ]
  },
  {
   "cell_type": "code",
   "execution_count": 2,
   "metadata": {},
   "outputs": [
    {
     "data": {
      "text/html": [
       "<div>\n",
       "<style scoped>\n",
       "    .dataframe tbody tr th:only-of-type {\n",
       "        vertical-align: middle;\n",
       "    }\n",
       "\n",
       "    .dataframe tbody tr th {\n",
       "        vertical-align: top;\n",
       "    }\n",
       "\n",
       "    .dataframe thead th {\n",
       "        text-align: right;\n",
       "    }\n",
       "</style>\n",
       "<table border=\"1\" class=\"dataframe\">\n",
       "  <thead>\n",
       "    <tr style=\"text-align: right;\">\n",
       "      <th></th>\n",
       "      <th>score</th>\n",
       "      <th>title</th>\n",
       "    </tr>\n",
       "  </thead>\n",
       "  <tbody>\n",
       "    <tr>\n",
       "      <th>0</th>\n",
       "      <td>8.0</td>\n",
       "      <td>nasa's 3d-printed rotating detonation rocket e...</td>\n",
       "    </tr>\n",
       "    <tr>\n",
       "      <th>1</th>\n",
       "      <td>62.0</td>\n",
       "      <td>heat pumps of the 1800s are becoming the techn...</td>\n",
       "    </tr>\n",
       "    <tr>\n",
       "      <th>2</th>\n",
       "      <td>1.0</td>\n",
       "      <td>why you should develop local-first web apps</td>\n",
       "    </tr>\n",
       "    <tr>\n",
       "      <th>3</th>\n",
       "      <td>1.0</td>\n",
       "      <td>tool to make twitter archive publishable</td>\n",
       "    </tr>\n",
       "    <tr>\n",
       "      <th>4</th>\n",
       "      <td>2.0</td>\n",
       "      <td>fedora packages versus upstream flatpaks</td>\n",
       "    </tr>\n",
       "  </tbody>\n",
       "</table>\n",
       "</div>"
      ],
      "text/plain": [
       "   score                                              title\n",
       "0    8.0  nasa's 3d-printed rotating detonation rocket e...\n",
       "1   62.0  heat pumps of the 1800s are becoming the techn...\n",
       "2    1.0        why you should develop local-first web apps\n",
       "3    1.0           tool to make twitter archive publishable\n",
       "4    2.0           fedora packages versus upstream flatpaks"
      ]
     },
     "execution_count": 2,
     "metadata": {},
     "output_type": "execute_result"
    }
   ],
   "source": [
    "df = pd.read_csv('../HN Score, Title 10k.csv')\n",
    "df.title = df.title.str.lower()\n",
    "df.dropna(inplace= True)\n",
    "df.head()"
   ]
  },
  {
   "cell_type": "code",
   "execution_count": 3,
   "metadata": {},
   "outputs": [
    {
     "data": {
      "text/plain": [
       "(17110, 7872)"
      ]
     },
     "execution_count": 3,
     "metadata": {},
     "output_type": "execute_result"
    }
   ],
   "source": [
    "words = []\n",
    "num_lines = 10000\n",
    "lines = df.title.tolist()[:num_lines]\n",
    "\n",
    "for i in df.title[:num_lines]:\n",
    "    for j in str(i).split():\n",
    "        if j not in words and j != \"nan\":\n",
    "            words.append(j)\n",
    "\n",
    "vocab_size = len(words)\n",
    "\n",
    "vocab_size, len(lines)"
   ]
  },
  {
   "cell_type": "code",
   "execution_count": 4,
   "metadata": {},
   "outputs": [],
   "source": [
    "itos = {num:word for num, word in zip(range(len(words)),words)}\n",
    "stoi = {word:num for num,word in itos.items()}"
   ]
  },
  {
   "cell_type": "code",
   "execution_count": 5,
   "metadata": {},
   "outputs": [],
   "source": [
    "def create_skipgram_pairs(input_lines, word_to_ix, context_len=3):\n",
    "    \"\"\"\n",
    "    Create skipgram pairs from lines of text.\n",
    "    Returns: tuple of (input_indices, context_indices)\n",
    "    \"\"\"\n",
    "    context_words = []\n",
    "    input_words = []\n",
    "    middle_index = context_len // 2\n",
    "\n",
    "    for line in input_lines:\n",
    "        words = line.strip().split()\n",
    "        \n",
    "        if len(words) >= context_len:\n",
    "            windows = list(more_itertools.windowed(words, context_len))\n",
    "            \n",
    "            for window in windows:\n",
    "                center = window[middle_index]\n",
    "                context = [window[0], window[2]]\n",
    "                \n",
    "                input_words.append(center)\n",
    "                context_words.append(context)\n",
    "\n",
    "    # Convert to indices\n",
    "    input_indices = [word_to_ix[word] for word in input_words]\n",
    "    context_indices = [[word_to_ix[w] for w in context] for context in context_words]\n",
    "    \n",
    "    return input_indices, context_indices\n",
    "\n"
   ]
  },
  {
   "cell_type": "code",
   "execution_count": 10,
   "metadata": {},
   "outputs": [],
   "source": [
    "# Usage:\n",
    "context_len = 3\n",
    "input_indices, context_indices = create_skipgram_pairs(lines, stoi, context_len)\n",
    "X = torch.tensor(input_indices, dtype=torch.long)\n",
    "Y = torch.tensor(context_indices, dtype=torch.long)"
   ]
  },
  {
   "cell_type": "code",
   "execution_count": 11,
   "metadata": {},
   "outputs": [
    {
     "data": {
      "text/plain": [
       "(tensor([ 1,  2,  3,  4,  5,  6,  7, 10, 11, 12]),\n",
       " tensor([[ 0,  2],\n",
       "         [ 1,  3],\n",
       "         [ 2,  4],\n",
       "         [ 3,  5],\n",
       "         [ 4,  6],\n",
       "         [ 5,  7],\n",
       "         [ 6,  8],\n",
       "         [ 9, 11],\n",
       "         [10, 12],\n",
       "         [11, 13]]))"
      ]
     },
     "execution_count": 11,
     "metadata": {},
     "output_type": "execute_result"
    }
   ],
   "source": [
    "X.shape, Y.shape\n",
    "X[:10], Y[:10]"
   ]
  },
  {
   "cell_type": "code",
   "execution_count": 12,
   "metadata": {},
   "outputs": [
    {
     "name": "stdout",
     "output_type": "stream",
     "text": [
      "Dataset size: 48259 ; context length: 3 ; vocab size: 17110\n"
     ]
    }
   ],
   "source": [
    "inputs_len = len(X)\n",
    "print(\"Dataset size:\", inputs_len, \"; context length:\", context_len, \"; vocab size:\", vocab_size)"
   ]
  },
  {
   "cell_type": "code",
   "execution_count": 13,
   "metadata": {},
   "outputs": [],
   "source": [
    "# # Convert targets to indices\n",
    "# input_indices = [stoi[input] for input in inputs if input in stoi]\n",
    "\n",
    "# # Convert context words to indices\n",
    "# context_indices = [[stoi[context] for context in contexts if context in stoi] for contexts in context_words]\n",
    "\n",
    "# print(input_indices[:10])\n",
    "# print(context_indices[:10])\n"
   ]
  },
  {
   "cell_type": "code",
   "execution_count": 14,
   "metadata": {},
   "outputs": [],
   "source": [
    "# # Convert target indices to PyTorch tensor\n",
    "# X = torch.tensor(input_indices, dtype=torch.long)\n",
    "\n",
    "# Y = torch.tensor(context_indices, dtype=torch.long)\n",
    "\n",
    "# # Create one-hot encoded targets (X)\n",
    "# # X = torch.zeros((targets_len, vocab_size))\n",
    "# # X.scatter_(1, target_indices.unsqueeze(1), 1)  # Scatter 1s into the appropriate indices\n",
    "# # X = X.long()\n",
    "\n",
    "# # Convert context indices to PyTorch tensor and one-hot encode (Y)\n",
    "# # Y = torch.zeros((inputs_len, vocab_size))\n",
    "# # for i, context in enumerate(context_indices):\n",
    "# #     Y[i, context] = 1  # Set 1s for all indices in the context for each target\n",
    "\n",
    "# X.shape, Y.shape"
   ]
  },
  {
   "cell_type": "code",
   "execution_count": 15,
   "metadata": {},
   "outputs": [],
   "source": [
    "emb_dims = 20\n",
    "\n",
    "class Word2Vec(nn.Module):\n",
    "    def __init__(self, vocab_size, emb_dims):\n",
    "        super().__init__()\n",
    "        self.embeddings = nn.Embedding(num_embeddings= vocab_size, embedding_dim= emb_dims)\n",
    "        self.output_weights = nn.Linear(in_features = emb_dims, out_features = vocab_size)\n",
    "        self.sigmoid = nn.Sigmoid()\n",
    "\n",
    "    def forward(self, x, positive_samples, negative_samples):\n",
    "        emb = self.embeddings(x)\n",
    "        context_weights = self.output_weights.weight[positive_samples]\n",
    "        negative_sample_weights = self.output_weights.weight[negative_samples]\n",
    "        positive_out = torch.bmm(context_weights, emb.unsqueeze(-1)).squeeze(-1)\n",
    "        negative_out = torch.bmm(negative_sample_weights, emb.unsqueeze(-1)).squeeze(-1)\n",
    "        positive_out = self.sigmoid(positive_out)\n",
    "        negative_out = self.sigmoid(negative_out)\n",
    "        positive_loss = -positive_out.log().mean()\n",
    "        negative_loss = -(1 - negative_out + 10**(-3)).log().mean()\n",
    "        return positive_loss + negative_loss\n",
    "\n",
    "word2vec = Word2Vec(vocab_size = vocab_size, emb_dims= emb_dims)\n"
   ]
  },
  {
   "cell_type": "code",
   "execution_count": 16,
   "metadata": {},
   "outputs": [],
   "source": [
    "# Setup loss function\n",
    "loss_fn = nn.BCEWithLogitsLoss()\n",
    "\n",
    "# Setup optimizer to optimize model's parameters\n",
    "optimiser = torch.optim.SGD(params= word2vec.parameters(), lr = 0.1)"
   ]
  },
  {
   "cell_type": "code",
   "execution_count": 17,
   "metadata": {},
   "outputs": [],
   "source": [
    "## TODO: Uncomment this code to use the Accuracy function\n",
    "# acc_fn = Accuracy(task=\"multiclass\", num_classes=vocab_size) # send accuracy function to device"
   ]
  },
  {
   "cell_type": "code",
   "execution_count": 19,
   "metadata": {},
   "outputs": [],
   "source": [
    "def evaluate_accuracy(model, X, Y, vocab_size):\n",
    "    \"\"\"\n",
    "    Calculate accuracy by comparing positive sample scores with negative sample scores.\n",
    "    We want positive context words to have higher scores than random negative words.\n",
    "    \"\"\"\n",
    "    model.eval()\n",
    "    \n",
    "    with torch.no_grad():\n",
    "        # Get embeddings for all input words\n",
    "        emb = model.embeddings(X)  # [num_samples, embedding_dim]\n",
    "        \n",
    "        # Get positive context embeddings\n",
    "        pos_ctx = model.output_weights.weight[Y]  # [num_samples, 2, embedding_dim]\n",
    "        \n",
    "        # Generate negative samples\n",
    "        neg_samples = torch.randint(0, vocab_size, Y.shape)\n",
    "        neg_ctx = model.output_weights.weight[neg_samples]\n",
    "        \n",
    "        # Calculate similarity scores\n",
    "        emb_reshaped = emb.unsqueeze(-1)  # [num_samples, embedding_dim, 1]\n",
    "        pos_scores = torch.bmm(pos_ctx, emb_reshaped).squeeze(-1)  # [num_samples, 2]\n",
    "        neg_scores = torch.bmm(neg_ctx, emb_reshaped).squeeze(-1)  # [num_samples, 2]\n",
    "        \n",
    "        # Accuracy: how often positive scores > negative scores\n",
    "        accuracy = (pos_scores > neg_scores).float().mean().item()\n",
    "        \n",
    "    return accuracy"
   ]
  },
  {
   "cell_type": "code",
   "execution_count": 20,
   "metadata": {},
   "outputs": [
    {
     "name": "stdout",
     "output_type": "stream",
     "text": [
      "Epoch 1 | Loss: 1.49084 | Accuracy: 0.4695\n",
      "Epoch 2 | Loss: 1.44492 | Accuracy: 0.4594\n",
      "Epoch 3 | Loss: 1.38255 | Accuracy: 0.4451\n",
      "Epoch 4 | Loss: 1.43047 | Accuracy: 0.4375\n",
      "Epoch 5 | Loss: 1.36800 | Accuracy: 0.4308\n",
      "Epoch 6 | Loss: 1.42882 | Accuracy: 0.4235\n",
      "Epoch 7 | Loss: 1.31650 | Accuracy: 0.4141\n",
      "Epoch 8 | Loss: 1.31890 | Accuracy: 0.4087\n",
      "Epoch 9 | Loss: 1.32125 | Accuracy: 0.3985\n",
      "Epoch 10 | Loss: 1.38332 | Accuracy: 0.3928\n",
      "Epoch 11 | Loss: 1.40632 | Accuracy: 0.3867\n",
      "Epoch 12 | Loss: 1.31403 | Accuracy: 0.3780\n",
      "Epoch 13 | Loss: 1.39135 | Accuracy: 0.3725\n",
      "Epoch 14 | Loss: 1.36997 | Accuracy: 0.3627\n",
      "Epoch 15 | Loss: 1.36401 | Accuracy: 0.3633\n",
      "Epoch 16 | Loss: 1.39583 | Accuracy: 0.3559\n",
      "Epoch 17 | Loss: 1.28562 | Accuracy: 0.3500\n",
      "Epoch 18 | Loss: 1.40235 | Accuracy: 0.3436\n",
      "Epoch 19 | Loss: 1.20028 | Accuracy: 0.3361\n",
      "Epoch 20 | Loss: 1.23924 | Accuracy: 0.3328\n",
      "Epoch 21 | Loss: 1.24311 | Accuracy: 0.3250\n",
      "Epoch 22 | Loss: 1.27683 | Accuracy: 0.3239\n",
      "Epoch 23 | Loss: 1.24439 | Accuracy: 0.3192\n",
      "Epoch 24 | Loss: 1.35393 | Accuracy: 0.3117\n",
      "Epoch 25 | Loss: 1.23879 | Accuracy: 0.3069\n",
      "Epoch 26 | Loss: 1.31863 | Accuracy: 0.3015\n",
      "Epoch 27 | Loss: 1.30384 | Accuracy: 0.2965\n",
      "Epoch 28 | Loss: 1.26492 | Accuracy: 0.2944\n",
      "Epoch 29 | Loss: 1.23355 | Accuracy: 0.2879\n",
      "Epoch 30 | Loss: 1.29606 | Accuracy: 0.2840\n",
      "Epoch 31 | Loss: 1.24223 | Accuracy: 0.2811\n",
      "Epoch 32 | Loss: 1.14729 | Accuracy: 0.2762\n",
      "Epoch 33 | Loss: 1.24705 | Accuracy: 0.2733\n",
      "Epoch 34 | Loss: 1.14375 | Accuracy: 0.2677\n",
      "Epoch 35 | Loss: 1.20382 | Accuracy: 0.2651\n",
      "Epoch 36 | Loss: 1.17203 | Accuracy: 0.2608\n",
      "Epoch 37 | Loss: 1.23417 | Accuracy: 0.2569\n",
      "Epoch 38 | Loss: 1.23226 | Accuracy: 0.2517\n",
      "Epoch 39 | Loss: 1.08296 | Accuracy: 0.2492\n",
      "Epoch 40 | Loss: 1.14994 | Accuracy: 0.2462\n",
      "Epoch 41 | Loss: 1.12632 | Accuracy: 0.2418\n",
      "Epoch 42 | Loss: 1.23645 | Accuracy: 0.2413\n",
      "Epoch 43 | Loss: 1.19824 | Accuracy: 0.2362\n",
      "Epoch 44 | Loss: 1.27896 | Accuracy: 0.2311\n",
      "Epoch 45 | Loss: 1.28376 | Accuracy: 0.2296\n",
      "Epoch 46 | Loss: 1.23701 | Accuracy: 0.2269\n",
      "Epoch 47 | Loss: 1.09917 | Accuracy: 0.2256\n",
      "Epoch 48 | Loss: 1.14519 | Accuracy: 0.2207\n",
      "Epoch 49 | Loss: 1.10413 | Accuracy: 0.2198\n",
      "Epoch 50 | Loss: 1.13266 | Accuracy: 0.2145\n",
      "Epoch 51 | Loss: 1.08713 | Accuracy: 0.2140\n",
      "Epoch 52 | Loss: 1.20813 | Accuracy: 0.2113\n",
      "Epoch 53 | Loss: 1.17307 | Accuracy: 0.2086\n",
      "Epoch 54 | Loss: 1.16515 | Accuracy: 0.2042\n",
      "Epoch 55 | Loss: 1.21034 | Accuracy: 0.2015\n",
      "Epoch 56 | Loss: 1.21742 | Accuracy: 0.2010\n",
      "Epoch 57 | Loss: 1.11534 | Accuracy: 0.1966\n",
      "Epoch 58 | Loss: 1.06608 | Accuracy: 0.1959\n",
      "Epoch 59 | Loss: 1.10674 | Accuracy: 0.1938\n",
      "Epoch 60 | Loss: 1.13080 | Accuracy: 0.1911\n",
      "Epoch 61 | Loss: 1.21685 | Accuracy: 0.1881\n",
      "Epoch 62 | Loss: 1.21183 | Accuracy: 0.1891\n",
      "Epoch 63 | Loss: 1.05084 | Accuracy: 0.1843\n",
      "Epoch 64 | Loss: 1.07340 | Accuracy: 0.1832\n",
      "Epoch 65 | Loss: 1.16723 | Accuracy: 0.1794\n",
      "Epoch 66 | Loss: 1.02726 | Accuracy: 0.1779\n",
      "Epoch 67 | Loss: 0.99677 | Accuracy: 0.1776\n",
      "Epoch 68 | Loss: 1.19312 | Accuracy: 0.1758\n",
      "Epoch 69 | Loss: 1.09779 | Accuracy: 0.1731\n",
      "Epoch 70 | Loss: 0.97892 | Accuracy: 0.1730\n",
      "Epoch 71 | Loss: 1.07487 | Accuracy: 0.1697\n",
      "Epoch 72 | Loss: 1.23952 | Accuracy: 0.1693\n",
      "Epoch 73 | Loss: 0.97859 | Accuracy: 0.1655\n",
      "Epoch 74 | Loss: 1.03347 | Accuracy: 0.1645\n",
      "Epoch 75 | Loss: 1.05116 | Accuracy: 0.1631\n",
      "Epoch 76 | Loss: 1.11055 | Accuracy: 0.1609\n",
      "Epoch 77 | Loss: 0.99743 | Accuracy: 0.1604\n",
      "Epoch 78 | Loss: 0.96813 | Accuracy: 0.1602\n",
      "Epoch 79 | Loss: 1.16519 | Accuracy: 0.1572\n",
      "Epoch 80 | Loss: 1.04130 | Accuracy: 0.1553\n",
      "Epoch 81 | Loss: 1.04418 | Accuracy: 0.1549\n",
      "Epoch 82 | Loss: 1.01093 | Accuracy: 0.1531\n",
      "Epoch 83 | Loss: 1.03029 | Accuracy: 0.1523\n",
      "Epoch 84 | Loss: 0.83007 | Accuracy: 0.1496\n",
      "Epoch 85 | Loss: 0.98584 | Accuracy: 0.1489\n",
      "Epoch 86 | Loss: 1.01535 | Accuracy: 0.1475\n",
      "Epoch 87 | Loss: 1.11751 | Accuracy: 0.1476\n",
      "Epoch 88 | Loss: 1.02184 | Accuracy: 0.1462\n",
      "Epoch 89 | Loss: 1.14064 | Accuracy: 0.1449\n",
      "Epoch 90 | Loss: 1.06359 | Accuracy: 0.1430\n",
      "Epoch 91 | Loss: 1.06878 | Accuracy: 0.1428\n",
      "Epoch 92 | Loss: 1.00658 | Accuracy: 0.1400\n",
      "Epoch 93 | Loss: 1.00203 | Accuracy: 0.1403\n",
      "Epoch 94 | Loss: 0.98284 | Accuracy: 0.1391\n",
      "Epoch 95 | Loss: 1.06476 | Accuracy: 0.1390\n",
      "Epoch 96 | Loss: 1.08390 | Accuracy: 0.1369\n",
      "Epoch 97 | Loss: 0.96694 | Accuracy: 0.1368\n",
      "Epoch 98 | Loss: 0.91386 | Accuracy: 0.1343\n",
      "Epoch 99 | Loss: 0.96485 | Accuracy: 0.1334\n",
      "Epoch 100 | Loss: 0.86797 | Accuracy: 0.1329\n"
     ]
    }
   ],
   "source": [
    "torch.manual_seed(RANDOM_SEED)\n",
    "\n",
    "# Setup epochs\n",
    "epochs = 100\n",
    "batch_size = 32\n",
    "# Track loss\n",
    "lossi = []\n",
    "\n",
    "# Send data to the device\n",
    "# X_train, y_train = X_train.to(device), y_train.to(device)\n",
    "# X_test, y_test = X_test.to(device), y_test.to(device)\n",
    "\n",
    "dataset = torch.utils.data.TensorDataset(X, Y)\n",
    "dataloader = torch.utils.data.DataLoader(dataset, \n",
    "                                         batch_size=32, \n",
    "                                         shuffle=True, \n",
    "                                         drop_last=True)\n",
    "\n",
    "# Loop through the data\n",
    "for epoch in range(epochs):\n",
    "    ### Training\n",
    "    total_loss = 0  # Track loss across batches\n",
    "    \n",
    "    for batch_idx, batch in enumerate(dataloader):\n",
    "        # Unpack batch\n",
    "        X_batch, positive_samples = batch\n",
    "        # Generate negative samples\n",
    "        negative_samples = torch.randint(0, vocab_size, (X_batch.size(0), context_len -1))\n",
    "\n",
    "        # 1. Forward pass (now returns loss directly)\n",
    "        loss = word2vec(X_batch, negative_samples, positive_samples)  # Model computes loss internally\n",
    "        \n",
    "        # 2. Zero the gradients\n",
    "        optimiser.zero_grad()\n",
    "        \n",
    "        # 3. Loss backwards\n",
    "        loss.backward()\n",
    "        \n",
    "        # 4. Step the optimiser\n",
    "        optimiser.step()\n",
    "        \n",
    "        total_loss += loss.item()\n",
    "\n",
    "        # Track loss\n",
    "        lossi.append(loss.item())\n",
    "        \n",
    "        # if batch_idx % 100 == 0:\n",
    "    accuracy = evaluate_accuracy(word2vec, X, Y, vocab_size)\n",
    "    print(f\"Epoch {epoch + 1} | Loss: {loss.item():.5f} | Accuracy: {accuracy:.4f}\")\n",
    "\n",
    "    # print(f\"Epoch {epoch + 1} | Batch {batch_idx + 1} | Loss: {loss.item():.5f}\")\n",
    "    # Print out what's happening every 100 epochs\n",
    "    # if epoch % 100 == 0:\n",
    "    #     avg_loss = total_loss / len(dataloader)\n",
    "    #     print(f\"Epoch: {epoch} | Average Loss: {avg_loss:.5f}\")\n",
    "\n"
   ]
  },
  {
   "cell_type": "code",
   "execution_count": 381,
   "metadata": {},
   "outputs": [
    {
     "name": "stdout",
     "output_type": "stream",
     "text": [
      "Accuracy: 0.0954\n"
     ]
    }
   ],
   "source": [
    "def evaluate_accuracy(model, X, Y, vocab_size):\n",
    "    \"\"\"\n",
    "    Calculate accuracy over the entire dataset at once.\n",
    "    \n",
    "    Args:\n",
    "        model: The Word2Vec model\n",
    "        X: Tensor of input words [num_samples]\n",
    "        Y: Tensor of context words [num_samples, 2]\n",
    "    \"\"\"\n",
    "    model.eval()\n",
    "    \n",
    "    with torch.no_grad():\n",
    "        # Get embeddings for all input words\n",
    "        emb = model.embeddings(X)  # [num_samples, embedding_dim]\n",
    "        \n",
    "        # Get context embeddings\n",
    "        ctx = model.output_weights.weight[Y]  # [num_samples, 2, embedding_dim]\n",
    "        \n",
    "        # Calculate similarity scores\n",
    "        emb_reshaped = emb.unsqueeze(-1)  # [num_samples, embedding_dim, 1]\n",
    "        scores = torch.bmm(ctx, emb_reshaped).squeeze(-1)  # [num_samples, 2]\n",
    "        \n",
    "        # Convert to predictions (0 or 1)\n",
    "        predictions = (torch.sigmoid(scores) > 0.5).float()\n",
    "        \n",
    "        # Calculate accuracy\n",
    "        accuracy = (predictions == 1).float().mean().item()\n",
    "        \n",
    "    return accuracy\n",
    "\n",
    "# Usage:\n",
    "accuracy = evaluate_accuracy(word2vec, X, Y, vocab_size)\n",
    "print(f\"Accuracy: {accuracy:.4f}\")"
   ]
  },
  {
   "cell_type": "code",
   "execution_count": 382,
   "metadata": {},
   "outputs": [],
   "source": [
    "def plot_loss(lossi):\n",
    "    \"\"\"\n",
    "    Plot loss values using PyTorch operations.\n",
    "    \"\"\"\n",
    "    losses = torch.tensor(lossi)\n",
    "    window_size = max(len(losses) // 100, 1)\n",
    "    \n",
    "    # Reshape and mean\n",
    "    remainder = len(losses) % window_size\n",
    "    if remainder:\n",
    "        # Pad with the last value to make it evenly divisible\n",
    "        padding = window_size - remainder\n",
    "        losses = torch.cat([losses, losses[-1].repeat(padding)])\n",
    "    \n",
    "    averaged_losses = losses.view(-1, window_size).mean(1)\n",
    "    \n",
    "    plt.figure(figsize=(10, 6))\n",
    "    plt.plot(averaged_losses)\n",
    "    plt.title('Training Loss Over Time')\n",
    "    plt.xlabel(f'Steps (averaged over {window_size} steps)')\n",
    "    plt.ylabel('Loss')\n",
    "    plt.show()"
   ]
  },
  {
   "cell_type": "code",
   "execution_count": 383,
   "metadata": {},
   "outputs": [
    {
     "data": {
      "image/png": "[encoded data removed]",
      "text/plain": [
       "<Figure size 1000x600 with 1 Axes>"
      ]
     },
     "metadata": {},
     "output_type": "display_data"
    }
   ],
   "source": [
    "plot_loss(lossi)"
   ]
  },
  {
   "cell_type": "code",
   "execution_count": 384,
   "metadata": {},
   "outputs": [],
   "source": [
    "# plt.plot(torch.tensor(lossi).view(-1, 1000).mean(1))"
   ]
  },
  {
   "cell_type": "code",
   "execution_count": 385,
   "metadata": {},
   "outputs": [
    {
     "name": "stdout",
     "output_type": "stream",
     "text": [
      "Nearest neighbors of '2,200':\n",
      "[('sector?', 0.7978853), ('favour', 0.7545068), ('cs', 0.73504287), ('twitter?', 0.701852), ('confidentialhistory', 0.68996775)]\n"
     ]
    }
   ],
   "source": [
    "from sklearn.metrics.pairwise import cosine_similarity\n",
    "\n",
    "def get_nearest_neighbors(word, stoi, embeddings, n=5):\n",
    "    \"\"\"\n",
    "    Find the top-n nearest neighbors of a word in the embedding space.\n",
    "    \n",
    "    Args:\n",
    "        word (str): The target word.\n",
    "        stoi (dict): Mapping from words to indices.\n",
    "        embeddings (torch.Tensor): Learned word embeddings (shape: V x d).\n",
    "        n (int): Number of nearest neighbors to retrieve.\n",
    "    \n",
    "    Returns:\n",
    "        List of tuples (neighbor_word, similarity_score).\n",
    "    \"\"\"\n",
    "    if word not in stoi:\n",
    "        return f\"'{word}' not in vocabulary.\"\n",
    "    \n",
    "    word_idx = stoi[word]\n",
    "    word_embedding = embeddings[word_idx].unsqueeze(0)  # Shape: 1 x d\n",
    "    \n",
    "    # Compute cosine similarity between the target embedding and all embeddings\n",
    "    similarities = cosine_similarity(word_embedding.detach().numpy(), embeddings.detach().numpy())\n",
    "    similarities = similarities[0]  # Flatten\n",
    "    \n",
    "    # Get top-n similar words (excluding the word itself)\n",
    "    nearest_indices = similarities.argsort()[-n-1:][::-1][1:]  # Exclude the word itself\n",
    "    nearest_words = [(list(stoi.keys())[idx], similarities[idx]) for idx in nearest_indices]\n",
    "    return nearest_words\n",
    "\n",
    "# Example usage\n",
    "word = \"2,200\"\n",
    "nearest_neighbors = get_nearest_neighbors(word, stoi, word2vec.embeddings.weight, n=5)\n",
    "print(f\"Nearest neighbors of '{word}':\")\n",
    "print(nearest_neighbors)\n"
   ]
  },
  {
   "cell_type": "code",
   "execution_count": 386,
   "metadata": {},
   "outputs": [
    {
     "name": "stdout",
     "output_type": "stream",
     "text": [
      "Random sample of words:\n",
      "['dreams:', 'happend', 'systems’', 'should', 'destructive', 'or,', 'no-code', 'present', 'arxiv', 'ecommerce']\n"
     ]
    }
   ],
   "source": [
    "# Using random\n",
    "# Make a copy so you don't shuffle the original list\n",
    "words_sample = words.copy()\n",
    "random.shuffle(words_sample)\n",
    "\n",
    "# Print first 10 shuffled words\n",
    "print(\"Random sample of words:\")\n",
    "print(words_sample[:10])"
   ]
  }
 ],
 "metadata": {
  "kernelspec": {
   "display_name": "Python 3",
   "language": "python",
   "name": "python3"
  },
  "language_info": {
   "codemirror_mode": {
    "name": "ipython",
    "version": 3
   },
   "file_extension": ".py",
   "mimetype": "text/x-python",
   "name": "python",
   "nbconvert_exporter": "python",
   "pygments_lexer": "ipython3",
   "version": "3.9.6"
  }
 },
 "nbformat": 4,
 "nbformat_minor": 2
}
