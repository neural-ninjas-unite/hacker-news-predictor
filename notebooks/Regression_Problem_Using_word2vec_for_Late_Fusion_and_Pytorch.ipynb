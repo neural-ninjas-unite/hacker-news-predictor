{
 "cells": [
  {
   "cell_type": "code",
   "execution_count": 84,
   "metadata": {},
   "outputs": [],
   "source": [
    "import pandas as pd\n",
    "import re\n",
    "from nltk.tokenize import word_tokenize\n",
    "import torch\n",
    "from torch.utils.data import Dataset, DataLoader\n",
    "from collections import Counter\n",
    "import numpy as np\n",
    "from sklearn.model_selection import train_test_split\n",
    "from sklearn.metrics import mean_squared_error, r2_score\n"
   ]
  },
  {
   "cell_type": "code",
   "execution_count": 85,
   "metadata": {},
   "outputs": [],
   "source": [
    "# Load the CSV\n",
    "data = pd.read_csv('/Users/nigelkiernan/Documents/GitProjects/MLXProjects/data-1737988940684.csv')"
   ]
  },
  {
   "cell_type": "code",
   "execution_count": 86,
   "metadata": {},
   "outputs": [
    {
     "name": "stdout",
     "output_type": "stream",
     "text": [
      "                                               title  score\n",
      "0                                       Y Combinator     57\n",
      "1                      A Student's Guide to Startups     16\n",
      "2             Woz Interview: the early days of Apple      7\n",
      "3                              NYC Developer Dilemma      5\n",
      "4  Google, YouTube acquisition announcement could...      7\n",
      "5  Business Intelligence the Inkling Way: cool pr...      4\n",
      "6                         Sevin Rosen Unfunds - why?      5\n",
      "7                         LikeBetter featured by BBC     10\n",
      "8           weekendr: social network for the weekend      4\n",
      "9            PhotoShow: Broadcast Photos to Cable TV      3\n"
     ]
    }
   ],
   "source": [
    "# Inspect the data\n",
    "print(data.head(10))"
   ]
  },
  {
   "cell_type": "code",
   "execution_count": null,
   "metadata": {},
   "outputs": [],
   "source": []
  },
  {
   "cell_type": "code",
   "execution_count": 87,
   "metadata": {},
   "outputs": [],
   "source": [
    "# Preprocessing function\n",
    "def preprocess_text(text):\n",
    "    text = re.sub(r'[^a-zA-Z\\s]', '', text.lower())  # Remove punctuation and lowercase\n",
    "    tokens = word_tokenize(text)\n",
    "    return tokens"
   ]
  },
  {
   "cell_type": "code",
   "execution_count": 88,
   "metadata": {},
   "outputs": [
    {
     "data": {
      "text/html": [
       "<div>\n",
       "<style scoped>\n",
       "    .dataframe tbody tr th:only-of-type {\n",
       "        vertical-align: middle;\n",
       "    }\n",
       "\n",
       "    .dataframe tbody tr th {\n",
       "        vertical-align: top;\n",
       "    }\n",
       "\n",
       "    .dataframe thead th {\n",
       "        text-align: right;\n",
       "    }\n",
       "</style>\n",
       "<table border=\"1\" class=\"dataframe\">\n",
       "  <thead>\n",
       "    <tr style=\"text-align: right;\">\n",
       "      <th></th>\n",
       "      <th>title</th>\n",
       "      <th>score</th>\n",
       "    </tr>\n",
       "  </thead>\n",
       "  <tbody>\n",
       "    <tr>\n",
       "      <th>0</th>\n",
       "      <td>Y Combinator</td>\n",
       "      <td>57</td>\n",
       "    </tr>\n",
       "    <tr>\n",
       "      <th>1</th>\n",
       "      <td>A Student's Guide to Startups</td>\n",
       "      <td>16</td>\n",
       "    </tr>\n",
       "    <tr>\n",
       "      <th>2</th>\n",
       "      <td>Woz Interview: the early days of Apple</td>\n",
       "      <td>7</td>\n",
       "    </tr>\n",
       "    <tr>\n",
       "      <th>3</th>\n",
       "      <td>NYC Developer Dilemma</td>\n",
       "      <td>5</td>\n",
       "    </tr>\n",
       "    <tr>\n",
       "      <th>4</th>\n",
       "      <td>Google, YouTube acquisition announcement could...</td>\n",
       "      <td>7</td>\n",
       "    </tr>\n",
       "    <tr>\n",
       "      <th>5</th>\n",
       "      <td>Business Intelligence the Inkling Way: cool pr...</td>\n",
       "      <td>4</td>\n",
       "    </tr>\n",
       "    <tr>\n",
       "      <th>6</th>\n",
       "      <td>Sevin Rosen Unfunds - why?</td>\n",
       "      <td>5</td>\n",
       "    </tr>\n",
       "    <tr>\n",
       "      <th>7</th>\n",
       "      <td>LikeBetter featured by BBC</td>\n",
       "      <td>10</td>\n",
       "    </tr>\n",
       "    <tr>\n",
       "      <th>8</th>\n",
       "      <td>weekendr: social network for the weekend</td>\n",
       "      <td>4</td>\n",
       "    </tr>\n",
       "    <tr>\n",
       "      <th>9</th>\n",
       "      <td>PhotoShow: Broadcast Photos to Cable TV</td>\n",
       "      <td>3</td>\n",
       "    </tr>\n",
       "  </tbody>\n",
       "</table>\n",
       "</div>"
      ],
      "text/plain": [
       "                                               title  score\n",
       "0                                       Y Combinator     57\n",
       "1                      A Student's Guide to Startups     16\n",
       "2             Woz Interview: the early days of Apple      7\n",
       "3                              NYC Developer Dilemma      5\n",
       "4  Google, YouTube acquisition announcement could...      7\n",
       "5  Business Intelligence the Inkling Way: cool pr...      4\n",
       "6                         Sevin Rosen Unfunds - why?      5\n",
       "7                         LikeBetter featured by BBC     10\n",
       "8           weekendr: social network for the weekend      4\n",
       "9            PhotoShow: Broadcast Photos to Cable TV      3"
      ]
     },
     "execution_count": 88,
     "metadata": {},
     "output_type": "execute_result"
    }
   ],
   "source": [
    "data.head(10)"
   ]
  },
  {
   "cell_type": "code",
   "execution_count": 89,
   "metadata": {},
   "outputs": [],
   "source": [
    "# Apply preprocessing\n",
    "data['tokens'] = data['title'].apply(preprocess_text)"
   ]
  },
  {
   "cell_type": "code",
   "execution_count": 90,
   "metadata": {},
   "outputs": [],
   "source": [
    "# Build the Skip-Gram Word2Vec Model"
   ]
  },
  {
   "cell_type": "code",
   "execution_count": 91,
   "metadata": {},
   "outputs": [],
   "source": [
    "# Flatten tokenized text to build vocabulary\n",
    "all_words = [word for tokens in data['tokens'] for word in tokens]\n",
    "word_counts = Counter(all_words)\n",
    "vocab = {word: i for i, word in enumerate(word_counts.keys())}\n"
   ]
  },
  {
   "cell_type": "code",
   "execution_count": 92,
   "metadata": {},
   "outputs": [
    {
     "name": "stdout",
     "output_type": "stream",
     "text": [
      "Vocabulary size: 10934\n"
     ]
    }
   ],
   "source": [
    "# Vocabulary size\n",
    "vocab_size = len(vocab)\n",
    "print(f\"Vocabulary size: {vocab_size}\")\n"
   ]
  },
  {
   "cell_type": "code",
   "execution_count": 93,
   "metadata": {},
   "outputs": [],
   "source": [
    "# Create Skip-Gram Pairs"
   ]
  },
  {
   "cell_type": "code",
   "execution_count": 94,
   "metadata": {},
   "outputs": [],
   "source": [
    "# Generate skip-gram pairs\n",
    "def generate_skip_gram_pairs(tokens, window_size):\n",
    "    pairs = []\n",
    "    for sentence in tokens:\n",
    "        for center_idx in range(len(sentence)):\n",
    "            for offset in range(-window_size, window_size + 1):\n",
    "                context_idx = center_idx + offset\n",
    "                if context_idx < 0 or context_idx >= len(sentence) or center_idx == context_idx:\n",
    "                    continue\n",
    "                pairs.append((vocab[sentence[center_idx]], vocab[sentence[context_idx]]))\n",
    "    return pairs"
   ]
  },
  {
   "cell_type": "code",
   "execution_count": 95,
   "metadata": {},
   "outputs": [
    {
     "name": "stdout",
     "output_type": "stream",
     "text": [
      "Total skip-gram pairs: 250232\n"
     ]
    }
   ],
   "source": [
    "# Create pairs\n",
    "window_size = 2\n",
    "skip_gram_pairs = generate_skip_gram_pairs(data['tokens'], window_size)\n",
    "print(f\"Total skip-gram pairs: {len(skip_gram_pairs)}\")"
   ]
  },
  {
   "cell_type": "code",
   "execution_count": 96,
   "metadata": {},
   "outputs": [],
   "source": [
    "# PyTorch Dataset and Dataloader"
   ]
  },
  {
   "cell_type": "code",
   "execution_count": 97,
   "metadata": {},
   "outputs": [],
   "source": [
    "class SkipGramDataset(Dataset):\n",
    "    def __init__(self, pairs):\n",
    "        self.pairs = pairs\n",
    "\n",
    "    def __len__(self):\n",
    "        return len(self.pairs)\n",
    "\n",
    "    def __getitem__(self, idx):\n",
    "        return torch.tensor(self.pairs[idx][0]), torch.tensor(self.pairs[idx][1])\n",
    "\n"
   ]
  },
  {
   "cell_type": "code",
   "execution_count": 98,
   "metadata": {},
   "outputs": [],
   "source": [
    "# Create Dataset and DataLoader\n",
    "dataset = SkipGramDataset(skip_gram_pairs)\n",
    "dataloader = DataLoader(dataset, batch_size=128, shuffle=True)\n"
   ]
  },
  {
   "cell_type": "code",
   "execution_count": 99,
   "metadata": {},
   "outputs": [],
   "source": [
    "# Define the Word2Vec Model"
   ]
  },
  {
   "cell_type": "code",
   "execution_count": 100,
   "metadata": {},
   "outputs": [],
   "source": [
    "import torch.nn as nn\n"
   ]
  },
  {
   "cell_type": "code",
   "execution_count": 101,
   "metadata": {},
   "outputs": [],
   "source": [
    "class Word2Vec(nn.Module):\n",
    "    def __init__(self, vocab_size, embedding_dim):\n",
    "        super(Word2Vec, self).__init__()\n",
    "        self.center_embeddings = nn.Embedding(vocab_size, embedding_dim)\n",
    "        self.context_embeddings = nn.Embedding(vocab_size, embedding_dim)\n",
    "\n",
    "    def forward(self, center, context):\n",
    "        center_embeds = self.center_embeddings(center)\n",
    "        context_embeds = self.context_embeddings(context)\n",
    "        scores = torch.sum(center_embeds * context_embeds, dim=1)\n",
    "        return scores\n"
   ]
  },
  {
   "cell_type": "code",
   "execution_count": 102,
   "metadata": {},
   "outputs": [],
   "source": [
    "# Train the Word2Vec Model"
   ]
  },
  {
   "cell_type": "code",
   "execution_count": 103,
   "metadata": {},
   "outputs": [],
   "source": [
    "embedding_dim = 200\n",
    "word2vec_model = Word2Vec(vocab_size, embedding_dim)\n",
    "optimizer = torch.optim.Adam(word2vec_model.parameters(), lr=0.01)\n",
    "criterion = nn.BCEWithLogitsLoss()\n",
    "\n"
   ]
  },
  {
   "cell_type": "code",
   "execution_count": 104,
   "metadata": {},
   "outputs": [
    {
     "name": "stdout",
     "output_type": "stream",
     "text": [
      "Epoch 1, Loss: 5494.0114\n",
      "Epoch 2, Loss: 38.5411\n",
      "Epoch 3, Loss: 0.3759\n",
      "Epoch 4, Loss: 0.0850\n",
      "Epoch 5, Loss: 0.0424\n",
      "Epoch 6, Loss: 0.0199\n",
      "Epoch 7, Loss: 0.0089\n",
      "Epoch 8, Loss: 0.0038\n",
      "Epoch 9, Loss: 0.0016\n",
      "Epoch 10, Loss: 0.0007\n"
     ]
    }
   ],
   "source": [
    "# Training loop\n",
    "for epoch in range(10):\n",
    "    total_loss = 0\n",
    "    for center, context in dataloader:\n",
    "        labels = torch.ones(center.shape[0])  # Positive samples\n",
    "        optimizer.zero_grad()\n",
    "        scores = word2vec_model(center, context)\n",
    "        loss = criterion(scores, labels)\n",
    "        loss.backward()\n",
    "        optimizer.step()\n",
    "        total_loss += loss.item()\n",
    "    print(f\"Epoch {epoch+1}, Loss: {total_loss:.4f}\")\n"
   ]
  },
  {
   "cell_type": "code",
   "execution_count": 105,
   "metadata": {},
   "outputs": [],
   "source": [
    "# Generate Text Embeddings"
   ]
  },
  {
   "cell_type": "code",
   "execution_count": 106,
   "metadata": {},
   "outputs": [],
   "source": [
    "# Create embedding matrix\n",
    "def get_sentence_embedding(tokens, model, vocab):\n",
    "    vectors = []\n",
    "    for word in tokens:\n",
    "        if word in vocab:\n",
    "            vectors.append(model.center_embeddings.weight[vocab[word]].detach().numpy())\n",
    "    return np.mean(vectors, axis=0) if vectors else np.zeros(embedding_dim)\n",
    "\n"
   ]
  },
  {
   "cell_type": "code",
   "execution_count": 107,
   "metadata": {},
   "outputs": [],
   "source": [
    "# Generate embeddings for each title\n",
    "data['embedding'] = data['tokens'].apply(lambda x: get_sentence_embedding(x, word2vec_model, vocab))\n"
   ]
  },
  {
   "cell_type": "code",
   "execution_count": 108,
   "metadata": {},
   "outputs": [],
   "source": [
    "# Late Fusion Integration"
   ]
  },
  {
   "cell_type": "code",
   "execution_count": 109,
   "metadata": {},
   "outputs": [],
   "source": [
    "# Example numerical features\n",
    "data['length'] = data['title'].str.len()\n",
    "\n"
   ]
  },
  {
   "cell_type": "code",
   "execution_count": 110,
   "metadata": {},
   "outputs": [],
   "source": [
    "# Combine embeddings with numerical features\n",
    "\n",
    "\n",
    "X_text = np.vstack(data['embedding'].values)\n",
    "X_numeric = data[['length']].values\n",
    "X = np.hstack([X_text, X_numeric])\n",
    "y = data['score'].values\n"
   ]
  },
  {
   "cell_type": "code",
   "execution_count": 111,
   "metadata": {},
   "outputs": [],
   "source": [
    "# Train-Test Split"
   ]
  },
  {
   "cell_type": "code",
   "execution_count": 112,
   "metadata": {},
   "outputs": [],
   "source": [
    "X_train, X_test, y_train, y_test = train_test_split(X, y, test_size=0.2, random_state=42)\n"
   ]
  },
  {
   "cell_type": "code",
   "execution_count": 113,
   "metadata": {},
   "outputs": [],
   "source": [
    "# Train Regression Model"
   ]
  },
  {
   "cell_type": "code",
   "execution_count": 114,
   "metadata": {},
   "outputs": [
    {
     "name": "stdout",
     "output_type": "stream",
     "text": [
      "MSE: 50.75570540790115\n",
      "R²: -0.10096995249862006\n"
     ]
    }
   ],
   "source": [
    "from sklearn.ensemble import RandomForestRegressor\n",
    "\n",
    "regressor = RandomForestRegressor()\n",
    "regressor.fit(X_train, y_train)\n",
    "\n",
    "# Predict and evaluate\n",
    "y_pred = regressor.predict(X_test)\n",
    "print(\"MSE:\", mean_squared_error(y_test, y_pred))\n",
    "print(\"R²:\", r2_score(y_test, y_pred))\n"
   ]
  },
  {
   "cell_type": "code",
   "execution_count": 115,
   "metadata": {},
   "outputs": [
    {
     "name": "stdout",
     "output_type": "stream",
     "text": [
      "Generating numerical features...\n"
     ]
    }
   ],
   "source": [
    "# Enhanced numerical features\n",
    "print(\"Generating numerical features...\")\n",
    "data['length'] = data['title'].str.len()\n",
    "data['word_count'] = data['title'].str.split().str.len()\n",
    "data['avg_word_length'] = data['title'].apply(lambda x: np.mean([len(word) for word in x.split()]) if len(x.split()) > 0 else 0)\n",
    "data['contains_number'] = data['title'].str.contains('\\d').astype(int)\n",
    "data['starts_with_number'] = data['title'].str.match('^\\d').astype(int)\n",
    "data['capital_letters'] = data['title'].apply(lambda x: sum(1 for c in x if c.isupper()))\n",
    "data['word_density'] = data['length'] / (data['word_count'] + 1)\n",
    "data['punctuation_count'] = data['title'].str.count('[^\\w\\s]')"
   ]
  },
  {
   "cell_type": "code",
   "execution_count": 116,
   "metadata": {},
   "outputs": [],
   "source": [
    "# Combine embeddings with numerical features\n",
    "X_text = np.vstack(data['embedding'].values)\n",
    "X_numeric = data[[\n",
    "    'length',\n",
    "    'word_count',\n",
    "    'avg_word_length',\n",
    "    'contains_number',\n",
    "    'starts_with_number',\n",
    "    'capital_letters',\n",
    "    'word_density',\n",
    "    'punctuation_count'\n",
    "]].values"
   ]
  },
  {
   "cell_type": "code",
   "execution_count": 117,
   "metadata": {},
   "outputs": [],
   "source": [
    "# Late fusion\n",
    "X = np.hstack([X_text, X_numeric])\n",
    "y = data['score'].values\n"
   ]
  },
  {
   "cell_type": "code",
   "execution_count": 118,
   "metadata": {},
   "outputs": [],
   "source": [
    "# Train-Test Split\n",
    "X_train, X_test, y_train, y_test = train_test_split(X, y, test_size=0.2, random_state=42)\n"
   ]
  },
  {
   "cell_type": "code",
   "execution_count": 119,
   "metadata": {},
   "outputs": [
    {
     "name": "stdout",
     "output_type": "stream",
     "text": [
      "Training Random Forest model...\n"
     ]
    },
    {
     "data": {
      "text/html": [
       "<style>#sk-container-id-3 {color: black;}#sk-container-id-3 pre{padding: 0;}#sk-container-id-3 div.sk-toggleable {background-color: white;}#sk-container-id-3 label.sk-toggleable__label {cursor: pointer;display: block;width: 100%;margin-bottom: 0;padding: 0.3em;box-sizing: border-box;text-align: center;}#sk-container-id-3 label.sk-toggleable__label-arrow:before {content: \"▸\";float: left;margin-right: 0.25em;color: #696969;}#sk-container-id-3 label.sk-toggleable__label-arrow:hover:before {color: black;}#sk-container-id-3 div.sk-estimator:hover label.sk-toggleable__label-arrow:before {color: black;}#sk-container-id-3 div.sk-toggleable__content {max-height: 0;max-width: 0;overflow: hidden;text-align: left;background-color: #f0f8ff;}#sk-container-id-3 div.sk-toggleable__content pre {margin: 0.2em;color: black;border-radius: 0.25em;background-color: #f0f8ff;}#sk-container-id-3 input.sk-toggleable__control:checked~div.sk-toggleable__content {max-height: 200px;max-width: 100%;overflow: auto;}#sk-container-id-3 input.sk-toggleable__control:checked~label.sk-toggleable__label-arrow:before {content: \"▾\";}#sk-container-id-3 div.sk-estimator input.sk-toggleable__control:checked~label.sk-toggleable__label {background-color: #d4ebff;}#sk-container-id-3 div.sk-label input.sk-toggleable__control:checked~label.sk-toggleable__label {background-color: #d4ebff;}#sk-container-id-3 input.sk-hidden--visually {border: 0;clip: rect(1px 1px 1px 1px);clip: rect(1px, 1px, 1px, 1px);height: 1px;margin: -1px;overflow: hidden;padding: 0;position: absolute;width: 1px;}#sk-container-id-3 div.sk-estimator {font-family: monospace;background-color: #f0f8ff;border: 1px dotted black;border-radius: 0.25em;box-sizing: border-box;margin-bottom: 0.5em;}#sk-container-id-3 div.sk-estimator:hover {background-color: #d4ebff;}#sk-container-id-3 div.sk-parallel-item::after {content: \"\";width: 100%;border-bottom: 1px solid gray;flex-grow: 1;}#sk-container-id-3 div.sk-label:hover label.sk-toggleable__label {background-color: #d4ebff;}#sk-container-id-3 div.sk-serial::before {content: \"\";position: absolute;border-left: 1px solid gray;box-sizing: border-box;top: 0;bottom: 0;left: 50%;z-index: 0;}#sk-container-id-3 div.sk-serial {display: flex;flex-direction: column;align-items: center;background-color: white;padding-right: 0.2em;padding-left: 0.2em;position: relative;}#sk-container-id-3 div.sk-item {position: relative;z-index: 1;}#sk-container-id-3 div.sk-parallel {display: flex;align-items: stretch;justify-content: center;background-color: white;position: relative;}#sk-container-id-3 div.sk-item::before, #sk-container-id-3 div.sk-parallel-item::before {content: \"\";position: absolute;border-left: 1px solid gray;box-sizing: border-box;top: 0;bottom: 0;left: 50%;z-index: -1;}#sk-container-id-3 div.sk-parallel-item {display: flex;flex-direction: column;z-index: 1;position: relative;background-color: white;}#sk-container-id-3 div.sk-parallel-item:first-child::after {align-self: flex-end;width: 50%;}#sk-container-id-3 div.sk-parallel-item:last-child::after {align-self: flex-start;width: 50%;}#sk-container-id-3 div.sk-parallel-item:only-child::after {width: 0;}#sk-container-id-3 div.sk-dashed-wrapped {border: 1px dashed gray;margin: 0 0.4em 0.5em 0.4em;box-sizing: border-box;padding-bottom: 0.4em;background-color: white;}#sk-container-id-3 div.sk-label label {font-family: monospace;font-weight: bold;display: inline-block;line-height: 1.2em;}#sk-container-id-3 div.sk-label-container {text-align: center;}#sk-container-id-3 div.sk-container {/* jupyter's `normalize.less` sets `[hidden] { display: none; }` but bootstrap.min.css set `[hidden] { display: none !important; }` so we also need the `!important` here to be able to override the default hidden behavior on the sphinx rendered scikit-learn.org. See: https://github.com/scikit-learn/scikit-learn/issues/21755 */display: inline-block !important;position: relative;}#sk-container-id-3 div.sk-text-repr-fallback {display: none;}</style><div id=\"sk-container-id-3\" class=\"sk-top-container\"><div class=\"sk-text-repr-fallback\"><pre>RandomForestRegressor(random_state=42)</pre><b>In a Jupyter environment, please rerun this cell to show the HTML representation or trust the notebook. <br />On GitHub, the HTML representation is unable to render, please try loading this page with nbviewer.org.</b></div><div class=\"sk-container\" hidden><div class=\"sk-item\"><div class=\"sk-estimator sk-toggleable\"><input class=\"sk-toggleable__control sk-hidden--visually\" id=\"sk-estimator-id-3\" type=\"checkbox\" checked><label for=\"sk-estimator-id-3\" class=\"sk-toggleable__label sk-toggleable__label-arrow\">RandomForestRegressor</label><div class=\"sk-toggleable__content\"><pre>RandomForestRegressor(random_state=42)</pre></div></div></div></div></div>"
      ],
      "text/plain": [
       "RandomForestRegressor(random_state=42)"
      ]
     },
     "execution_count": 119,
     "metadata": {},
     "output_type": "execute_result"
    }
   ],
   "source": [
    "# Train Random Forest Model\n",
    "print(\"Training Random Forest model...\")\n",
    "regressor = RandomForestRegressor(random_state=42)\n",
    "regressor.fit(X_train, y_train)\n"
   ]
  },
  {
   "cell_type": "code",
   "execution_count": 120,
   "metadata": {},
   "outputs": [],
   "source": [
    "# Predict and evaluate\n",
    "y_pred = regressor.predict(X_test)\n",
    "mse = mean_squared_error(y_test, y_pred)\n",
    "r2 = r2_score(y_test, y_pred)"
   ]
  },
  {
   "cell_type": "code",
   "execution_count": 121,
   "metadata": {},
   "outputs": [
    {
     "name": "stdout",
     "output_type": "stream",
     "text": [
      "\n",
      "Model Performance:\n",
      "Mean Squared Error: 49.7469\n",
      "R-squared Score: -0.0791\n"
     ]
    }
   ],
   "source": [
    "print(\"\\nModel Performance:\")\n",
    "print(f\"Mean Squared Error: {mse:.4f}\")\n",
    "print(f\"R-squared Score: {r2:.4f}\")"
   ]
  },
  {
   "cell_type": "code",
   "execution_count": 122,
   "metadata": {},
   "outputs": [],
   "source": [
    "# Feature importance analysis\n",
    "feature_names = [f'embedding_{i}' for i in range(embedding_dim)] + [\n",
    "    'length',\n",
    "    'word_count',\n",
    "    'avg_word_length',\n",
    "    'contains_number',\n",
    "    'starts_with_number',\n",
    "    'capital_letters',\n",
    "    'word_density',\n",
    "    'punctuation_count'\n",
    "]"
   ]
  },
  {
   "cell_type": "code",
   "execution_count": 123,
   "metadata": {},
   "outputs": [
    {
     "name": "stdout",
     "output_type": "stream",
     "text": [
      "\n",
      "Numerical Feature Importances:\n",
      "length: 0.0143\n",
      "word_count: 0.0210\n",
      "avg_word_length: 0.0115\n",
      "contains_number: 0.0002\n",
      "starts_with_number: 0.0002\n",
      "capital_letters: 0.0103\n",
      "word_density: 0.0104\n",
      "punctuation_count: 0.0035\n"
     ]
    }
   ],
   "source": [
    "# Get feature importances\n",
    "importances = regressor.feature_importances_\n",
    "numeric_feature_importances = importances[embedding_dim:]\n",
    "numeric_feature_names = feature_names[embedding_dim:]\n",
    "\n",
    "# Print importance of numerical features\n",
    "print(\"\\nNumerical Feature Importances:\")\n",
    "for name, importance in zip(numeric_feature_names, numeric_feature_importances):\n",
    "    print(f\"{name}: {importance:.4f}\")"
   ]
  },
  {
   "cell_type": "code",
   "execution_count": 124,
   "metadata": {},
   "outputs": [
    {
     "name": "stdout",
     "output_type": "stream",
     "text": [
      "\n",
      "=== Model Performance Evaluation ===\n",
      "\n",
      "Performance Metrics:\n",
      "Mean Squared Error (MSE): 49.7469\n",
      "Root Mean Squared Error (RMSE): 7.0531\n",
      "Mean Absolute Error (MAE): 4.2717\n",
      "R² Score: -0.0791\n",
      "\n",
      "Feature Importance Analysis:\n",
      "\n",
      "Top 10 Most Important Features:\n",
      "embedding_183: 0.0675\n",
      "word_count: 0.0210\n",
      "embedding_111: 0.0202\n",
      "embedding_82: 0.0174\n",
      "length: 0.0143\n",
      "avg_word_length: 0.0115\n",
      "embedding_38: 0.0113\n",
      "embedding_151: 0.0110\n",
      "word_density: 0.0104\n",
      "capital_letters: 0.0103\n",
      "\n",
      "Numerical Features Summary:\n",
      "\n",
      "Feature Statistics:\n",
      "             length    word_count  avg_word_length  contains_number  \\\n",
      "count  10000.000000  10000.000000     10000.000000     10000.000000   \n",
      "mean      48.870700      8.053300         5.372001         0.179400   \n",
      "std       22.599191      3.890369         1.289503         0.383706   \n",
      "min        1.000000      0.000000         0.000000         0.000000   \n",
      "25%       33.000000      5.000000         4.500000         0.000000   \n",
      "50%       45.000000      7.000000         5.200000         0.000000   \n",
      "75%       59.250000     10.000000         6.000000         0.000000   \n",
      "max      198.000000     36.000000        23.000000         1.000000   \n",
      "\n",
      "       starts_with_number  capital_letters  word_density  punctuation_count  \n",
      "count        10000.000000     10000.000000  10000.000000       10000.000000  \n",
      "mean             0.027600         4.299100      5.378746           1.611300  \n",
      "std              0.163832         2.960628      0.981668           1.694373  \n",
      "min              0.000000         0.000000      0.500000           0.000000  \n",
      "25%              0.000000         2.000000      4.750000           0.000000  \n",
      "50%              0.000000         4.000000      5.333333           1.000000  \n",
      "75%              0.000000         6.000000      6.000000           2.000000  \n",
      "max              1.000000        49.000000     12.600000          24.000000  \n",
      "\n",
      "Correlation with Target (score):\n",
      "score                 1.000000\n",
      "punctuation_count     0.022005\n",
      "word_count            0.014301\n",
      "length               -0.002561\n",
      "contains_number      -0.004458\n",
      "starts_with_number   -0.006096\n",
      "capital_letters      -0.017300\n",
      "word_density         -0.041910\n",
      "avg_word_length      -0.047121\n",
      "Name: score, dtype: float64\n"
     ]
    }
   ],
   "source": [
    "# Model Evaluation\n",
    "print(\"\\n=== Model Performance Evaluation ===\")\n",
    "\n",
    "# Basic Metrics\n",
    "y_pred = regressor.predict(X_test)\n",
    "mse = mean_squared_error(y_test, y_pred)\n",
    "rmse = np.sqrt(mse)\n",
    "r2 = r2_score(y_test, y_pred)\n",
    "mae = np.mean(np.abs(y_test - y_pred))\n",
    "\n",
    "print(f\"\\nPerformance Metrics:\")\n",
    "print(f\"Mean Squared Error (MSE): {mse:.4f}\")\n",
    "print(f\"Root Mean Squared Error (RMSE): {rmse:.4f}\")\n",
    "print(f\"Mean Absolute Error (MAE): {mae:.4f}\")\n",
    "print(f\"R² Score: {r2:.4f}\")\n",
    "\n",
    "# Feature Importance Analysis\n",
    "print(\"\\nFeature Importance Analysis:\")\n",
    "print(\"\\nTop 10 Most Important Features:\")\n",
    "feature_importance = list(zip(feature_names, regressor.feature_importances_))\n",
    "feature_importance.sort(key=lambda x: x[1], reverse=True)\n",
    "for name, importance in feature_importance[:10]:\n",
    "    print(f\"{name}: {importance:.4f}\")\n",
    "\n",
    "# Numerical Features Summary\n",
    "print(\"\\nNumerical Features Summary:\")\n",
    "numeric_features = [\n",
    "    'length', 'word_count', 'avg_word_length', 'contains_number',\n",
    "    'starts_with_number', 'capital_letters', 'word_density', 'punctuation_count'\n",
    "]\n",
    "print(\"\\nFeature Statistics:\")\n",
    "print(data[numeric_features].describe())\n",
    "\n",
    "# Correlation with Target\n",
    "print(\"\\nCorrelation with Target (score):\")\n",
    "correlations = data[numeric_features + ['score']].corr()['score'].sort_values(ascending=False)\n",
    "print(correlations)"
   ]
  }
 ],
 "metadata": {
  "kernelspec": {
   "display_name": "base",
   "language": "python",
   "name": "python3"
  },
  "language_info": {
   "codemirror_mode": {
    "name": "ipython",
    "version": 3
   },
   "file_extension": ".py",
   "mimetype": "text/x-python",
   "name": "python",
   "nbconvert_exporter": "python",
   "pygments_lexer": "ipython3",
   "version": "3.11.5"
  }
 },
 "nbformat": 4,
 "nbformat_minor": 4
}
